{
  "nbformat": 4,
  "nbformat_minor": 0,
  "metadata": {
    "colab": {
      "name": "Mundo 2 curso em vídeo 36 ao 71",
      "provenance": [],
      "collapsed_sections": [
        "miPnTRnGIb7x",
        "m_8Lod5bIda5",
        "piGXljRIIdzy",
        "hnAJkHGrIeVk",
        "e2EuJcUmIeSm",
        "_bAEilS3IePi",
        "02YqNC2CIeMH",
        "74e5dyrRIeGb",
        "kZG1MdpzId-w",
        "3L_BG7RvIcMe",
        "srwP0FQEIcZg",
        "lcZwoESfIclM",
        "EOQTEzmTIcvm",
        "UpNrT9zpIIYI",
        "o_aS9jM-IIqa",
        "xtOAJJigIJWq",
        "vEVYJ9pZIJvA",
        "KFASmEpUIKFm",
        "hhKhxNspILIP",
        "HG8iHZDbILwS",
        "vkm51jI3ILtL",
        "nvb4aibdILqP",
        "hBgMmaS0ILnI",
        "boIyPSvYILkD",
        "CyiyaR2ZILhB",
        "FwK-J_9hILd5",
        "B1oMTjkXILa0",
        "FvydQD16ILX1",
        "L-PgxN9zILUv",
        "I7T1EIAmILP5",
        "MkupjGtFIKCg",
        "O8HTR7fPAdoY",
        "Mm1BswZIIJ7m",
        "iadoBev6IJ2A",
        "mp0O6OXmIJTf"
      ],
      "include_colab_link": true
    },
    "kernelspec": {
      "name": "python3",
      "display_name": "Python 3"
    }
  },
  "cells": [
    {
      "cell_type": "markdown",
      "metadata": {
        "id": "view-in-github",
        "colab_type": "text"
      },
      "source": [
        "<a href=\"https://colab.research.google.com/github/klsio22/Python-3-Curso-em-video/blob/master/Mundo_2_curso_em_v%C3%ADdeo_36_ao_71.ipynb\" target=\"_parent\"><img src=\"https://colab.research.google.com/assets/colab-badge.svg\" alt=\"Open In Colab\"/></a>"
      ]
    },
    {
      "cell_type": "markdown",
      "metadata": {
        "colab_type": "text",
        "id": "miPnTRnGIb7x"
      },
      "source": [
        "# **EX036**"
      ]
    },
    {
      "cell_type": "code",
      "metadata": {
        "id": "D6-BGb4iIghj",
        "colab_type": "code",
        "colab": {}
      },
      "source": [
        "print('\\n' + '-=-' * 10 + ' Aprovando Empréstimo ' + '-=-' * 10 + '\\n')\n",
        "\n",
        "casa = float(input('Digite o valor da casa: '))\n",
        "salario = float(input('Digite salario do Comprador: '))\n",
        "ano = int(input('Quantos anos deseja quitar a casa: '))\n",
        "\n",
        "percentual = (salario * 0.30) * (ano * 12)\n",
        "prestacao = casa / (ano * 12)\n",
        "\n",
        "print('\\nPara pagar uma casa de R${:.2f} em {} anos'.format(casa, ano), end=' ')\n",
        "print('a presteção vai ser de R${:.2f}'.format(prestacao))\n",
        "\n",
        "if percentual >= casa:\n",
        "    print('Empréstimo aceito !!')\n",
        "else:\n",
        "    print('Empréstimo Negado !!')"
      ],
      "execution_count": 0,
      "outputs": []
    },
    {
      "cell_type": "markdown",
      "metadata": {
        "colab_type": "text",
        "id": "m_8Lod5bIda5"
      },
      "source": [
        "# **EX037**"
      ]
    },
    {
      "cell_type": "code",
      "metadata": {
        "id": "0zj8Wa57ImCB",
        "colab_type": "code",
        "colab": {}
      },
      "source": [
        "print('\\n' + '-=-' * 10 + ' Converter Bases ' + '-=-' * 10 + '\\n')\n",
        "\n",
        "n = int(input('Digite o número decimal para converte-lo : '))\n",
        "\n",
        "print('\\n' + '-=-' * 8 + ' Para qual base deseja converter ? ' + '-=-' * 8 + '\\n')\n",
        "print('[1] Para Binario')\n",
        "print('[2] Para Octal')\n",
        "print('[3] Para Hexdecimal')\n",
        "n1 = int(input())\n",
        "\n",
        "if n1 == 1:\n",
        "    print(bin(n)[2:])\n",
        "elif n1 == 2:\n",
        "    print(oct(n)[2:])\n",
        "elif n1 == 3:\n",
        "    print(hex(n)[2:])\n",
        "else:\n",
        "    print('Opção invalida,Tente Novamente')\n"
      ],
      "execution_count": 0,
      "outputs": []
    },
    {
      "cell_type": "markdown",
      "metadata": {
        "colab_type": "text",
        "id": "piGXljRIIdzy"
      },
      "source": [
        "# **EX038**"
      ]
    },
    {
      "cell_type": "code",
      "metadata": {
        "id": "T3iNmaNBIs6q",
        "colab_type": "code",
        "colab": {}
      },
      "source": [
        "print('\\n' + '-=-' * 10 + ' Comparando números ' + '-=-' * 10 + '\\n')\n",
        "\n",
        "x1 = int(input('Digite o primeiro número: '))\n",
        "x2 = int(input('Digite o segundo número: '))\n",
        "\n",
        "if x1 > x2:\n",
        "    print('O primeiro número é maior')\n",
        "elif x2 > x1:\n",
        "    print('O Segundo número é maior')\n",
        "else:\n",
        "    print('{} e {} São números iguais'.format(x1, x2))\n"
      ],
      "execution_count": 0,
      "outputs": []
    },
    {
      "cell_type": "markdown",
      "metadata": {
        "colab_type": "text",
        "id": "hnAJkHGrIeVk"
      },
      "source": [
        "# **EX039**"
      ]
    },
    {
      "cell_type": "code",
      "metadata": {
        "colab_type": "code",
        "id": "cyioXLSiIeVm",
        "colab": {}
      },
      "source": [
        "from datetime import date\n",
        "\n",
        "cores = {\n",
        "    'limpa': '\\033[m',\n",
        "    'branco': '\\033[30m',\n",
        "    'vermelho': '\\033[31m',\n",
        "    'verde': '\\033[32m',\n",
        "    'amarelo': '\\033[33m',\n",
        "    'azul': '\\033[34m',\n",
        "    'roxo': '\\33[35m',\n",
        "    'verdeAgua': '\\033[36m',\n",
        "    'cinza': '\\033[37m',\n",
        "    'Mageta': '\\033[35m',\n",
        "\n",
        "    'fundo preto ': '\\033[40m',\n",
        "    'fundo vermelho ': '\\033[41m',\n",
        "    'fundo verde ': '\\033[42m',\n",
        "    'fundo amarelo ': '\\033[43m',\n",
        "    'fundo azul': '\\033[44m',\n",
        "    'fundo magenta ': '\\033[45m',\n",
        "    'fundo ciano ': '\\033[46m',\n",
        "    'fundo branco': '\\033[47m',\n",
        "\n",
        "}\n",
        "\n",
        "print('\\n' + '-=-' * 10 + ' Alistamento Militar ' + '-=-' * 10 + '\\n')\n",
        "\n",
        "genero = str(input('{}Digite o sexo \"m\" para masculino ou \"f\" para feminino : {}'\n",
        "                   .format(cores['verdeAgua'], cores['limpa']))).strip().lower()\n",
        "\n",
        "if genero == str('m'):\n",
        "    print('\\n' + '-=-' * 20)\n",
        "    print('{}AVISO : A data de Nascimento deve ser valida .{}'.format(cores['vermelho'], cores['limpa']))\n",
        "    print('-=-' * 20)\n",
        "    dataNascimento = int(input('\\n{}Ano de nascimento do Candidato: {}'.format(cores['amarelo'], cores['limpa'])))\n",
        "\n",
        "    anoAtual = date.today().year\n",
        "    idadeAlistamento = 18\n",
        "    idadeAtual = anoAtual - dataNascimento\n",
        "\n",
        "    if 0 < idadeAtual < 18:\n",
        "\n",
        "        print('Quem nasceu em {} tem {} anos em {}.'.format(dataNascimento, idadeAtual, anoAtual))\n",
        "        print('falta {} anos/ano para o seu alistamento'.format(idadeAlistamento - idadeAtual))\n",
        "        print('Seu alistamento será em {}.'.format(anoAtual+(idadeAlistamento - idadeAtual)))\n",
        "\n",
        "\n",
        "    elif idadeAtual == 18:\n",
        "        print('Quem nasceu em {} tem {} anos em {}.'.format(dataNascimento, idadeAtual, anoAtual))\n",
        "        print('Você tem que se alistar IMEDIATAMENTE!')\n",
        "\n",
        "    elif 18 < idadeAtual < 70:\n",
        "        print('Quem nasceu em {} tem {} anos em {}.'.format(dataNascimento, idadeAtual, anoAtual))\n",
        "        print('Você já deveria ter se alistado há {} ano/anos'.format(idadeAtual - idadeAlistamento))\n",
        "        print('Seu alistamento foi em {}.'.format(anoAtual-(idadeAtual-idadeAlistamento)))\n",
        "\n",
        "    else:\n",
        "        print('\\nAno inválido')\n",
        "elif genero == str('f'):\n",
        "    print('{}Mulher não é obrigatoria ao alistamento{}'.format(cores['roxo'], cores['limpa']))\n",
        "else:\n",
        "    print('{}{}Dígito/Digitos inválido{}'.format(cores['branco'], cores['fundo vermelho '], cores['limpa']))\n"
      ],
      "execution_count": 0,
      "outputs": []
    },
    {
      "cell_type": "markdown",
      "metadata": {
        "colab_type": "text",
        "id": "e2EuJcUmIeSm"
      },
      "source": [
        "# **EX040**"
      ]
    },
    {
      "cell_type": "code",
      "metadata": {
        "colab_type": "code",
        "id": "WG3Q8ZrZIeSo",
        "colab": {}
      },
      "source": [
        "print('\\n' + '-=-' * 10 + ' clássico da Média ' + '-=-' * 10 + '\\n')\n",
        "\n",
        "n1 = float(input(\"Digite o valor de sua primeira nota: \"))\n",
        "n2 = float(input('Digite o valor de sua segunda nota: '))\n",
        "\n",
        "med = (n1+n2)/2\n",
        "\n",
        "if 0 < med < 5.0:\n",
        "    print('Reprovado , media de {} precisa estudar mais'.format(med))\n",
        "elif 5.0 <= med <= 6.9:\n",
        "    print('Está de recuperação , media de {} precisa estudar mais'.format(med))\n",
        "elif 7.0 <= med <= 10:\n",
        "    print('Sua nota é {}, Parabéns Aprovado !'.format(med))\n",
        "else:\n",
        "    print('Nota inválida')\n",
        "\n"
      ],
      "execution_count": 0,
      "outputs": []
    },
    {
      "cell_type": "markdown",
      "metadata": {
        "colab_type": "text",
        "id": "_bAEilS3IePi"
      },
      "source": [
        "# **EX041**"
      ]
    },
    {
      "cell_type": "code",
      "metadata": {
        "colab_type": "code",
        "id": "Svd0pLhSIePk",
        "colab": {}
      },
      "source": [
        "from datetime import date\n",
        "\n",
        "print('\\n' + '-=-' * 10 + ' Classificando Atletas ' + '-=-' * 10 + '\\n')\n",
        "\n",
        "anoNasc = int(input('Ano de Nascimento: '))\n",
        "\n",
        "if anoNasc > 1924:\n",
        "    idade = date.today().year - anoNasc\n",
        "    print('O atleta tem {} anos'.format(idade))\n",
        "    if 1 < idade <= 9:\n",
        "        print('Classificação: MIRIM')\n",
        "\n",
        "    elif 9 < idade <= 14:\n",
        "        print('Classificação: INFANTIL')\n",
        "    elif 14 < idade <= 19:\n",
        "        print('Classificação: JUNIOR')\n",
        "\n",
        "    elif 19 < idade <= 25:\n",
        "        print('Classificação: SÊNIOR')\n",
        "    elif 25 < idade < 95:\n",
        "        print('Classificação: MASTER')\n",
        "    else:\n",
        "        print('Idade inválida')\n",
        "else:\n",
        "    print('Ano de Nascimento inválido')"
      ],
      "execution_count": 0,
      "outputs": []
    },
    {
      "cell_type": "markdown",
      "metadata": {
        "colab_type": "text",
        "id": "02YqNC2CIeMH"
      },
      "source": [
        "# **EX042**"
      ]
    },
    {
      "cell_type": "code",
      "metadata": {
        "colab_type": "code",
        "id": "E_ugMyGzIeMK",
        "colab": {}
      },
      "source": [
        "print('\\n' + '-=-' * 15 + ' Retas que Formam um Triângulo ' + '-=-' * 15 + '\\n')\n",
        "\n",
        "a = float(input('Digite o valor da primeira reta: '))\n",
        "b = float(input('Digite o valor da segunda reta: '))\n",
        "c = float(input('Digite o valor da terceira reta: '))\n",
        "\n",
        "if a + b > c and b + c > a and c + a > b:\n",
        "    print('\\nEssas retas formam um Triângulo')\n",
        "\n",
        "    if a == b and a == c:\n",
        "        print('Esse Triângulo é equilátero')\n",
        "    elif a == b or b == c or a == c:\n",
        "        print('Esse triangulo é isósceles')\n",
        "    else:\n",
        "        print('Triangulo escaleno.')\n",
        "else:\n",
        "    print('\\nEssas retas não forma Triangulo')\n",
        "\n",
        "'''''''''\n",
        "if a + b > c and b + c > a and c + a > b:\n",
        "    print('\\nEssas retas formam um Triângulo')\n",
        "    if a == b and a == c:\n",
        "        print('Esse Triângulo é equilátero')\n",
        "    elif a != b != c != a:\n",
        "        print('Triangulo escaleno.')\n",
        "    else:\n",
        "        print('Esse triangulo é isósceles')\n",
        "else:\n",
        "    print('\\nEssas retas não forma Triangulo')\n",
        "'''''''''\n"
      ],
      "execution_count": 0,
      "outputs": []
    },
    {
      "cell_type": "markdown",
      "metadata": {
        "colab_type": "text",
        "id": "74e5dyrRIeGb"
      },
      "source": [
        "# **EX043**"
      ]
    },
    {
      "cell_type": "code",
      "metadata": {
        "colab_type": "code",
        "id": "Oce6hcMLIeGe",
        "colab": {}
      },
      "source": [
        "print('\\n' + '-=-' * 15 + ' Calculadora IMC ' + '-=-' * 15 + '\\n')\n",
        "\n",
        "mass = float(input('Digite a massa(peso): (kg) '))\n",
        "cm = float(input('Digite a altura: (cm) '))\n",
        "m = cm / 100\n",
        "imc = (mass / (m**2))\n",
        "\n",
        "print('O IMC dessa Pessoa é de {:.1f}'.format(imc))\n",
        "if 1 < imc < 18.5:\n",
        "    print('Abaixo da massa(peso)')\n",
        "elif 18.5 <= imc < 25:\n",
        "    print('Massa(peso) Normal')\n",
        "elif 25 <= imc < 30:\n",
        "    print('Sobremassa(Sobrepeso)')\n",
        "elif 30 <= imc < 40:\n",
        "    print('Obesidade')\n",
        "elif imc > 40:\n",
        "    print('Obesidade morbida')\n",
        "else:\n",
        "    print('IMC inválido')\n"
      ],
      "execution_count": 0,
      "outputs": []
    },
    {
      "cell_type": "markdown",
      "metadata": {
        "colab_type": "text",
        "id": "kZG1MdpzId-w"
      },
      "source": [
        "# **EX044**"
      ]
    },
    {
      "cell_type": "code",
      "metadata": {
        "colab_type": "code",
        "id": "EWGAYcHcIda8",
        "colab": {}
      },
      "source": [
        "print('{:=^50}'.format(' Gerenciador de Pagamentos '))\n",
        "\n",
        "preco = float(input('Preço das compras :R$ '))\n",
        "juro = preco * 1.2\n",
        "print('FORMAS DE PAGAMENTO')\n",
        "print('{ 1 } à vista dinheiro/cheque')\n",
        "print('{ 2 } à vista cartão')\n",
        "print('{ 3 } 2x no cartão')\n",
        "print('{ 4 } 3x ou mais cartão')\n",
        "\n",
        "opcao = float(input('Digite a opção: '))\n",
        "\n",
        "if opcao == 1:\n",
        "    total = preco * 0.9\n",
        "elif opcao == 2:\n",
        "    total = preco * 0.95\n",
        "elif opcao == 3:\n",
        "    total = preco\n",
        "    parcela = total/2\n",
        "    print('Sua compra será parcelada em 2x de R${:.2f} SEM JUROS'.format(parcela))\n",
        "elif opcao == 4:\n",
        "    prazo = int(input('Quantas Parcelas: '))\n",
        "    print('Sua compra será parcelada de {}x '\n",
        "          'parcelas de {:.2f} COM JUROS'.format(prazo, juro/prazo))\n",
        "    print('Sua compra de R${:.2f} vai custar R${:.2f} no final '.format(preco, juro))\n",
        "else:\n",
        "    total = preco\n",
        "    print('Opção inválida')\n",
        "\n",
        "print('Sua compra de R${} vai custar R${} no final'.format(preco, total))\n"
      ],
      "execution_count": 0,
      "outputs": []
    },
    {
      "cell_type": "markdown",
      "metadata": {
        "colab_type": "text",
        "id": "3L_BG7RvIcMe"
      },
      "source": [
        "# **EX045**"
      ]
    },
    {
      "cell_type": "code",
      "metadata": {
        "id": "hkzARRh_Stvx",
        "colab_type": "code",
        "outputId": "fb5b66bd-d7d1-4f92-c7b1-ba010ec41054",
        "colab": {
          "base_uri": "https://localhost:8080/",
          "height": 572
        }
      },
      "source": [
        "from random import randint\n",
        "from time import sleep\n",
        "import os\n",
        "import sys\n",
        "cores = {\n",
        "    'limpa': '\\033[m',\n",
        "    'branco': '\\033[30m',\n",
        "    'vermelho': '\\033[31m',\n",
        "    'verde': '\\033[32m',\n",
        "    'amarelo': '\\033[33m',\n",
        "    'azul': '\\033[34m',\n",
        "    'roxo': '\\33[35m',\n",
        "    'verdeAgua': '\\033[36m',\n",
        "    'cinza': '\\033[37m',\n",
        "    'Mageta': '\\033[35m',\n",
        "\n",
        "    'fundo preto ': '\\033[40m',\n",
        "    'fundo vermelho ': '\\033[41m',\n",
        "    'fundo verde ': '\\033[42m',\n",
        "    'fundo amarelo ': '\\033[43m',\n",
        "    'fundo azul': '\\033[44m',\n",
        "    'fundo magenta ': '\\033[45m',\n",
        "    'fundo ciano ': '\\033[46m',\n",
        "    'fundo branco': '\\033[47m',\n",
        "\n",
        "}\n",
        "\n",
        "print('\\n' + '-=' * 15 + ' GAME: Pedra Papel e Tesoura ' + '-=' * 15 + '\\n')\n",
        "\n",
        "nome = str(input('{}Digite o nome do jogador:{} ' .format(\n",
        "    cores['azul'], cores['limpa']))).strip().upper()\n",
        "\n",
        "resp = str('s').strip().lower()\n",
        "\n",
        "while resp == str('s'):\n",
        "    print('{}Suas opçõe: [0] PEDRA , [1] PAPEL , [2] TESOURA{}'.format(\n",
        "        cores['vermelho'], cores['limpa']))\n",
        "\n",
        "    jogador = int(input('{}Qual a sua jogada ? '.format(cores['amarelo'])))\n",
        "    if jogador > 2:\n",
        "        print('\\nJogada invalida')\n",
        "\n",
        "        print('-=' * 15)\n",
        "        print('Deseja continuar !!!')\n",
        "        resp = str(input(\n",
        "                    '{}Deseja jogar novamente? [S/N]: '.format(cores['limpa']))).strip().lower()\n",
        "\n",
        "        if str('s') != resp != str('n'):\n",
        "\n",
        "            while str('s') != resp != str('n'):\n",
        "                print('Digito inválido ,tente novamente !')\n",
        "                resp = str(input(\n",
        "                    '{}Deseja jogar novamente? [S/N]: '.format(cores['limpa']))).strip().lower()\n",
        "\n",
        "        print('-=' * 15 + '\\n' * 40)\n",
        "\n",
        "        # os.system(\"clear\") funciona somente no Linux\n",
        "\n",
        "    else:\n",
        "        itens = ('PEDRA', 'PAPEL', 'TESOURA')\n",
        "        comp = randint(0, 2)\n",
        "\n",
        "        print('JO')\n",
        "        sleep(0.7)\n",
        "        print('KEN')\n",
        "        sleep(0.7)\n",
        "        print('PO!!!')\n",
        "        sleep(0.7)\n",
        "\n",
        "        print('-=' * 10)\n",
        "        print('COMPUTADOR Jogou {}'.format(itens[comp]))\n",
        "        print('(JOGADOR){} Jogou {}'.format(nome, itens[jogador]))\n",
        "        print('-=' * 10)\n",
        "\n",
        "        if comp == jogador:\n",
        "            print('Empate')\n",
        "        elif (comp == 0 and jogador == 1) \\\n",
        "                or (comp == 1 and jogador == 2) \\\n",
        "                or (comp == 2 and jogador == 0):\n",
        "\n",
        "            print('(JOGADOR){} Venceu !!!'.format(nome))\n",
        "        else:\n",
        "            print('COMPUTADOR Venceu !!!')\n",
        "\n",
        "        print('-=' * 15)\n",
        "        print('Deseja continuar !!!')\n",
        "\n",
        "        resp = str(input(\n",
        "            '{}Deseja jogar novamente? [S/N]: '.format(cores['limpa']))).strip().lower()\n",
        "        if str('s') != resp != str('n'):\n",
        "\n",
        "            while str('s') != resp != str('n'):\n",
        "                print('Digito inválido ,tente novamente !')\n",
        "                resp = str(input(\n",
        "                    '{}Deseja jogar novamente? [S/N]: '.format(cores['limpa']))).strip().lower()\n",
        "        print('-=' * 15 + '\\n' * 40)\n",
        "        # os.system(\"clear\") funciona somente no Linux\n"
      ],
      "execution_count": 0,
      "outputs": [
        {
          "output_type": "stream",
          "text": [
            "\n",
            "-=-=-=-=-=-=-=-=-=-=-=-=-=-=-= GAME: Pedra Papel e Tesoura -=-=-=-=-=-=-=-=-=-=-=-=-=-=-=\n",
            "\n"
          ],
          "name": "stdout"
        },
        {
          "output_type": "error",
          "ename": "KeyboardInterrupt",
          "evalue": "ignored",
          "traceback": [
            "\u001b[0;31m---------------------------------------------------------------------------\u001b[0m",
            "\u001b[0;31mKeyboardInterrupt\u001b[0m                         Traceback (most recent call last)",
            "\u001b[0;32m/usr/local/lib/python3.6/dist-packages/ipykernel/kernelbase.py\u001b[0m in \u001b[0;36m_input_request\u001b[0;34m(self, prompt, ident, parent, password)\u001b[0m\n\u001b[1;32m    729\u001b[0m             \u001b[0;32mtry\u001b[0m\u001b[0;34m:\u001b[0m\u001b[0;34m\u001b[0m\u001b[0;34m\u001b[0m\u001b[0m\n\u001b[0;32m--> 730\u001b[0;31m                 \u001b[0mident\u001b[0m\u001b[0;34m,\u001b[0m \u001b[0mreply\u001b[0m \u001b[0;34m=\u001b[0m \u001b[0mself\u001b[0m\u001b[0;34m.\u001b[0m\u001b[0msession\u001b[0m\u001b[0;34m.\u001b[0m\u001b[0mrecv\u001b[0m\u001b[0;34m(\u001b[0m\u001b[0mself\u001b[0m\u001b[0;34m.\u001b[0m\u001b[0mstdin_socket\u001b[0m\u001b[0;34m,\u001b[0m \u001b[0;36m0\u001b[0m\u001b[0;34m)\u001b[0m\u001b[0;34m\u001b[0m\u001b[0;34m\u001b[0m\u001b[0m\n\u001b[0m\u001b[1;32m    731\u001b[0m             \u001b[0;32mexcept\u001b[0m \u001b[0mException\u001b[0m\u001b[0;34m:\u001b[0m\u001b[0;34m\u001b[0m\u001b[0;34m\u001b[0m\u001b[0m\n",
            "\u001b[0;32m/usr/local/lib/python3.6/dist-packages/jupyter_client/session.py\u001b[0m in \u001b[0;36mrecv\u001b[0;34m(self, socket, mode, content, copy)\u001b[0m\n\u001b[1;32m    802\u001b[0m         \u001b[0;32mtry\u001b[0m\u001b[0;34m:\u001b[0m\u001b[0;34m\u001b[0m\u001b[0;34m\u001b[0m\u001b[0m\n\u001b[0;32m--> 803\u001b[0;31m             \u001b[0mmsg_list\u001b[0m \u001b[0;34m=\u001b[0m \u001b[0msocket\u001b[0m\u001b[0;34m.\u001b[0m\u001b[0mrecv_multipart\u001b[0m\u001b[0;34m(\u001b[0m\u001b[0mmode\u001b[0m\u001b[0;34m,\u001b[0m \u001b[0mcopy\u001b[0m\u001b[0;34m=\u001b[0m\u001b[0mcopy\u001b[0m\u001b[0;34m)\u001b[0m\u001b[0;34m\u001b[0m\u001b[0;34m\u001b[0m\u001b[0m\n\u001b[0m\u001b[1;32m    804\u001b[0m         \u001b[0;32mexcept\u001b[0m \u001b[0mzmq\u001b[0m\u001b[0;34m.\u001b[0m\u001b[0mZMQError\u001b[0m \u001b[0;32mas\u001b[0m \u001b[0me\u001b[0m\u001b[0;34m:\u001b[0m\u001b[0;34m\u001b[0m\u001b[0;34m\u001b[0m\u001b[0m\n",
            "\u001b[0;32m/usr/local/lib/python3.6/dist-packages/zmq/sugar/socket.py\u001b[0m in \u001b[0;36mrecv_multipart\u001b[0;34m(self, flags, copy, track)\u001b[0m\n\u001b[1;32m    465\u001b[0m         \"\"\"\n\u001b[0;32m--> 466\u001b[0;31m         \u001b[0mparts\u001b[0m \u001b[0;34m=\u001b[0m \u001b[0;34m[\u001b[0m\u001b[0mself\u001b[0m\u001b[0;34m.\u001b[0m\u001b[0mrecv\u001b[0m\u001b[0;34m(\u001b[0m\u001b[0mflags\u001b[0m\u001b[0;34m,\u001b[0m \u001b[0mcopy\u001b[0m\u001b[0;34m=\u001b[0m\u001b[0mcopy\u001b[0m\u001b[0;34m,\u001b[0m \u001b[0mtrack\u001b[0m\u001b[0;34m=\u001b[0m\u001b[0mtrack\u001b[0m\u001b[0;34m)\u001b[0m\u001b[0;34m]\u001b[0m\u001b[0;34m\u001b[0m\u001b[0;34m\u001b[0m\u001b[0m\n\u001b[0m\u001b[1;32m    467\u001b[0m         \u001b[0;31m# have first part already, only loop while more to receive\u001b[0m\u001b[0;34m\u001b[0m\u001b[0;34m\u001b[0m\u001b[0;34m\u001b[0m\u001b[0m\n",
            "\u001b[0;32mzmq/backend/cython/socket.pyx\u001b[0m in \u001b[0;36mzmq.backend.cython.socket.Socket.recv\u001b[0;34m()\u001b[0m\n",
            "\u001b[0;32mzmq/backend/cython/socket.pyx\u001b[0m in \u001b[0;36mzmq.backend.cython.socket.Socket.recv\u001b[0;34m()\u001b[0m\n",
            "\u001b[0;32mzmq/backend/cython/socket.pyx\u001b[0m in \u001b[0;36mzmq.backend.cython.socket._recv_copy\u001b[0;34m()\u001b[0m\n",
            "\u001b[0;32m/usr/local/lib/python3.6/dist-packages/zmq/backend/cython/checkrc.pxd\u001b[0m in \u001b[0;36mzmq.backend.cython.checkrc._check_rc\u001b[0;34m()\u001b[0m\n",
            "\u001b[0;31mKeyboardInterrupt\u001b[0m: ",
            "\nDuring handling of the above exception, another exception occurred:\n",
            "\u001b[0;31mKeyboardInterrupt\u001b[0m                         Traceback (most recent call last)",
            "\u001b[0;32m<ipython-input-1-785aaf4cf9cf>\u001b[0m in \u001b[0;36m<module>\u001b[0;34m()\u001b[0m\n\u001b[1;32m     29\u001b[0m \u001b[0;34m\u001b[0m\u001b[0m\n\u001b[1;32m     30\u001b[0m nome = str(input('{}Digite o nome do jogador:{} ' .format(\n\u001b[0;32m---> 31\u001b[0;31m     cores['azul'], cores['limpa']))).strip().upper()\n\u001b[0m\u001b[1;32m     32\u001b[0m \u001b[0;34m\u001b[0m\u001b[0m\n\u001b[1;32m     33\u001b[0m \u001b[0mresp\u001b[0m \u001b[0;34m=\u001b[0m \u001b[0mstr\u001b[0m\u001b[0;34m(\u001b[0m\u001b[0;34m's'\u001b[0m\u001b[0;34m)\u001b[0m\u001b[0;34m.\u001b[0m\u001b[0mstrip\u001b[0m\u001b[0;34m(\u001b[0m\u001b[0;34m)\u001b[0m\u001b[0;34m.\u001b[0m\u001b[0mlower\u001b[0m\u001b[0;34m(\u001b[0m\u001b[0;34m)\u001b[0m\u001b[0;34m\u001b[0m\u001b[0;34m\u001b[0m\u001b[0m\n",
            "\u001b[0;32m/usr/local/lib/python3.6/dist-packages/ipykernel/kernelbase.py\u001b[0m in \u001b[0;36mraw_input\u001b[0;34m(self, prompt)\u001b[0m\n\u001b[1;32m    703\u001b[0m             \u001b[0mself\u001b[0m\u001b[0;34m.\u001b[0m\u001b[0m_parent_ident\u001b[0m\u001b[0;34m,\u001b[0m\u001b[0;34m\u001b[0m\u001b[0;34m\u001b[0m\u001b[0m\n\u001b[1;32m    704\u001b[0m             \u001b[0mself\u001b[0m\u001b[0;34m.\u001b[0m\u001b[0m_parent_header\u001b[0m\u001b[0;34m,\u001b[0m\u001b[0;34m\u001b[0m\u001b[0;34m\u001b[0m\u001b[0m\n\u001b[0;32m--> 705\u001b[0;31m             \u001b[0mpassword\u001b[0m\u001b[0;34m=\u001b[0m\u001b[0;32mFalse\u001b[0m\u001b[0;34m,\u001b[0m\u001b[0;34m\u001b[0m\u001b[0;34m\u001b[0m\u001b[0m\n\u001b[0m\u001b[1;32m    706\u001b[0m         )\n\u001b[1;32m    707\u001b[0m \u001b[0;34m\u001b[0m\u001b[0m\n",
            "\u001b[0;32m/usr/local/lib/python3.6/dist-packages/ipykernel/kernelbase.py\u001b[0m in \u001b[0;36m_input_request\u001b[0;34m(self, prompt, ident, parent, password)\u001b[0m\n\u001b[1;32m    733\u001b[0m             \u001b[0;32mexcept\u001b[0m \u001b[0mKeyboardInterrupt\u001b[0m\u001b[0;34m:\u001b[0m\u001b[0;34m\u001b[0m\u001b[0;34m\u001b[0m\u001b[0m\n\u001b[1;32m    734\u001b[0m                 \u001b[0;31m# re-raise KeyboardInterrupt, to truncate traceback\u001b[0m\u001b[0;34m\u001b[0m\u001b[0;34m\u001b[0m\u001b[0;34m\u001b[0m\u001b[0m\n\u001b[0;32m--> 735\u001b[0;31m                 \u001b[0;32mraise\u001b[0m \u001b[0mKeyboardInterrupt\u001b[0m\u001b[0;34m\u001b[0m\u001b[0;34m\u001b[0m\u001b[0m\n\u001b[0m\u001b[1;32m    736\u001b[0m             \u001b[0;32melse\u001b[0m\u001b[0;34m:\u001b[0m\u001b[0;34m\u001b[0m\u001b[0;34m\u001b[0m\u001b[0m\n\u001b[1;32m    737\u001b[0m                 \u001b[0;32mbreak\u001b[0m\u001b[0;34m\u001b[0m\u001b[0;34m\u001b[0m\u001b[0m\n",
            "\u001b[0;31mKeyboardInterrupt\u001b[0m: "
          ]
        }
      ]
    },
    {
      "cell_type": "markdown",
      "metadata": {
        "colab_type": "text",
        "id": "srwP0FQEIcZg"
      },
      "source": [
        "# **EX046**"
      ]
    },
    {
      "cell_type": "code",
      "metadata": {
        "id": "pV6xbbTQJHM8",
        "colab_type": "code",
        "colab": {}
      },
      "source": [
        "from time import sleep\n",
        "\n",
        "print()\n",
        "\n",
        "for c in range(10, -1, -1):\n",
        "    print(c)\n",
        "    sleep(1)\n",
        "print('BUM! BUM! POOOOW!')\n"
      ],
      "execution_count": 0,
      "outputs": []
    },
    {
      "cell_type": "code",
      "metadata": {
        "id": "JMO-69_2TE5s",
        "colab_type": "code",
        "colab": {}
      },
      "source": [
        "from time import sleep\n",
        "import cv2\n",
        "\n",
        "print('\\n{:#^60}\\n'.format(' Contagem regressiva para os fogos '))\n",
        "\n",
        "for c in range(10, -1, -1):\n",
        "    print(c)\n",
        "    sleep(1)\n",
        "print('BUM! BUM! POOOOW!')\n",
        "\n",
        "imgLoad = cv2.imread('ex046.jpg', 1)\n",
        "\n",
        "cv2.imshow('FOGOS DE ARTIFICIO', imgLoad)\n",
        "cv2.waitKey(0)\n",
        "cv2.destroyAllwindows(0)\n"
      ],
      "execution_count": 0,
      "outputs": []
    },
    {
      "cell_type": "markdown",
      "metadata": {
        "colab_type": "text",
        "id": "lcZwoESfIclM"
      },
      "source": [
        "# **EX047**"
      ]
    },
    {
      "cell_type": "code",
      "metadata": {
        "id": "8NvFeQF9JIUE",
        "colab_type": "code",
        "colab": {}
      },
      "source": [
        "print('\\n{:#^60}\\n'.format(' Contagem de pares '))\n",
        "'''''''''''\n",
        "for c in range(1, 51):\n",
        "    if c % 2 == 0:\n",
        "        print(c, end=' ')\n",
        "print('Fim')\n",
        "'''''''''''\n",
        "for c in range(2, 51, 2):\n",
        "    print(c, end=' ')\n",
        "print('Fim')\n"
      ],
      "execution_count": 0,
      "outputs": []
    },
    {
      "cell_type": "markdown",
      "metadata": {
        "colab_type": "text",
        "id": "EOQTEzmTIcvm"
      },
      "source": [
        "# **EX048**"
      ]
    },
    {
      "cell_type": "code",
      "metadata": {
        "colab_type": "code",
        "id": "Y6YpSA5IIb70",
        "colab": {}
      },
      "source": [
        "print('\\n{:#^60}\\n'.format(' Soma ímpares múltiplos de três '))\n",
        "soma = 0\n",
        "cont = 0\n",
        "for c in range(1, 501, 2):\n",
        "\n",
        "    if c % 3 == 0:\n",
        "        soma += c\n",
        "        cont += 1\n",
        "        print(c, end='')\n",
        "\n",
        "print(\"A soma de todos os {} valores foi {} \".format(cont, soma))\n"
      ],
      "execution_count": 0,
      "outputs": []
    },
    {
      "cell_type": "markdown",
      "metadata": {
        "colab_type": "text",
        "id": "UpNrT9zpIIYI"
      },
      "source": [
        "# **EX049**"
      ]
    },
    {
      "cell_type": "code",
      "metadata": {
        "id": "BNbUL7XJIVVH",
        "colab_type": "code",
        "colab": {}
      },
      "source": [
        "print('\\n{:#^60}\\n'.format(' Tabuada v.2.0 '))\n",
        "\n",
        "n = int(input('Digite um numero: '))\n",
        "for c in range(1, 11):\n",
        "    print('{} X {} = {}'.format(n, c, n * c))\n",
        "print('=' * 12)\n"
      ],
      "execution_count": 0,
      "outputs": []
    },
    {
      "cell_type": "markdown",
      "metadata": {
        "colab_type": "text",
        "id": "o_aS9jM-IIqa"
      },
      "source": [
        "# **EX050**"
      ]
    },
    {
      "cell_type": "code",
      "metadata": {
        "id": "9TdwnURLIUew",
        "colab_type": "code",
        "colab": {}
      },
      "source": [
        "print('\\n{:#^60}\\n'.format(' Soma dos pares '))\n",
        "soma = 0\n",
        "cont = 0\n",
        "for c in range(0, 6):\n",
        "    n = int(input('Digite um numero: '))\n",
        "    if n % 2 == 0:\n",
        "        soma += n\n",
        "        cont += 1\n",
        "\n",
        "if cont > 1:\n",
        "    print('Foram digitados {} números pares e a soma é {}'.format(cont, soma))\n",
        "else:\n",
        "    print('Foi digitado {} número par e a soma é {}'.format(cont, soma))\n"
      ],
      "execution_count": 0,
      "outputs": []
    },
    {
      "cell_type": "markdown",
      "metadata": {
        "colab_type": "text",
        "id": "xtOAJJigIJWq"
      },
      "source": [
        "# **EX051**"
      ]
    },
    {
      "cell_type": "code",
      "metadata": {
        "id": "O4STUIrkIUBZ",
        "colab_type": "code",
        "colab": {}
      },
      "source": [
        "print('\\n{:#^60}\\n'.format(' Progressão Aritmética '))\n",
        "\n",
        "termo = int(input('Primeiro termo da P.A : '))\n",
        "razao = int(input('Razão da P.A: '))\n",
        "print('')\n",
        "for c in range(1, 11):\n",
        "    a = termo + (c - 1) * razao\n",
        "    print('{}'.format(a), end=' → ')\n",
        "\n",
        "print('ACABOU')\n",
        "\n",
        "print('{:=^40}'.format(''))\n"
      ],
      "execution_count": 0,
      "outputs": []
    },
    {
      "cell_type": "markdown",
      "metadata": {
        "colab_type": "text",
        "id": "vEVYJ9pZIJvA"
      },
      "source": [
        "# **EX052**"
      ]
    },
    {
      "cell_type": "code",
      "metadata": {
        "id": "6zB1iqMyISGB",
        "colab_type": "code",
        "colab": {}
      },
      "source": [
        "cores = {\n",
        "    'limpa': '\\033[m',\n",
        "    'branco': '\\033[30m',\n",
        "    'vermelho': '\\033[31m',\n",
        "    'verde': '\\033[32m',\n",
        "    'amarelo': '\\033[33m',\n",
        "    'azul': '\\033[34m',\n",
        "    'roxo': '\\33[35m',\n",
        "    'verdeAgua': '\\033[36m',\n",
        "    'cinza': '\\033[37m',\n",
        "    'Mageta': '\\033[35m',\n",
        "    'fundo preto': '\\033[40m',\n",
        "    'fundo vermelho': '\\033[41m',\n",
        "    'fundo verde ': '\\033[42m',\n",
        "    'fundo amarelo ': '\\033[43m',\n",
        "    'fundo azul': '\\033[44m',\n",
        "    'fundo magenta': '\\033[45m',\n",
        "    'fundo ciano': '\\033[46m',\n",
        "    'fundo branco': '\\033[47m',\n",
        "}\n",
        "\n",
        "print('\\n{:#^60}\\n'.format(' Números primos '))\n",
        "\n",
        "num = abs(int(input('Digite um numero : ')))\n",
        "nf = num\n",
        "c = 0\n",
        "for x in range(1, num+1):\n",
        "\n",
        "    if nf % x == 0:\n",
        "        c += 1\n",
        "        print('{}{}{} '.format(cores['amarelo'], x, cores['limpa']), end='')\n",
        "    else:\n",
        "        print('{}{}{} '.format(cores['vermelho'], x, cores['limpa']), end='')\n",
        "\n",
        "print('\\nO número {} foi divisível {} vezes'.format(num, c))\n",
        "\n",
        "if c == 2:\n",
        "    print('eh primo')\n",
        "else:\n",
        "    print('não eh primo')\n"
      ],
      "execution_count": 0,
      "outputs": []
    },
    {
      "cell_type": "code",
      "metadata": {
        "id": "DuEIhGMMW1ff",
        "colab_type": "code",
        "colab": {}
      },
      "source": [
        "cores = {\n",
        "    'limpa': '\\033[m',\n",
        "    'branco': '\\033[30m',\n",
        "    'vermelho': '\\033[31m',\n",
        "    'verde': '\\033[32m',\n",
        "    'amarelo': '\\033[33m',\n",
        "    'azul': '\\033[34m',\n",
        "    'roxo': '\\33[35m',\n",
        "    'verdeAgua': '\\033[36m',\n",
        "    'cinza': '\\033[37m',\n",
        "    'Mageta': '\\033[35m',\n",
        "    'fundo preto': '\\033[40m',\n",
        "    'fundo vermelho': '\\033[41m',\n",
        "    'fundo verde ': '\\033[42m',\n",
        "    'fundo amarelo ': '\\033[43m',\n",
        "    'fundo azul': '\\033[44m',\n",
        "    'fundo magenta': '\\033[45m',\n",
        "    'fundo ciano': '\\033[46m',\n",
        "    'fundo branco': '\\033[47m',\n",
        "}\n",
        "\n",
        "print('\\n{:#^60}\\n'.format(' Números primos '))\n",
        "\n",
        "num = int(int(input('Digite um numero : ')))\n",
        "nf = num\n",
        "y = abs(num)+1\n",
        "c = 0\n",
        "\n",
        "if num < 0:\n",
        "    for x in range(num, y):\n",
        "                    \n",
        "        if x != 0 and nf % x == 0:\n",
        "            c += 1\n",
        "            print('{}{}{} '.format(cores['amarelo'], x, cores['limpa']), end='')\n",
        "        else:\n",
        "            print('{}{}{} '.format(cores['vermelho'], x, cores['limpa']), end='')\n",
        "else:\n",
        "    \n",
        "     for x in range((num * -1), y):\n",
        "                    \n",
        "        if x != 0 and nf % x == 0:\n",
        "            c += 1\n",
        "            print('{}{}{} '.format(cores['amarelo'], x, cores['limpa']), end='')\n",
        "        else:\n",
        "            print('{}{}{} '.format(cores['vermelho'], x, cores['limpa']), end='')\n",
        "\n",
        "\n",
        "print('\\nO número {} foi divisível {} vezes'.format(num, c))\n",
        "\n",
        "if c == 4:\n",
        "    print('eh primo')\n",
        "else:\n",
        "    print('não eh primo')\n"
      ],
      "execution_count": 0,
      "outputs": []
    },
    {
      "cell_type": "markdown",
      "metadata": {
        "colab_type": "text",
        "id": "KFASmEpUIKFm"
      },
      "source": [
        "# **EX053**"
      ]
    },
    {
      "cell_type": "code",
      "metadata": {
        "id": "etSPaB4UIRN4",
        "colab_type": "code",
        "colab": {}
      },
      "source": [
        "print('\\n{:#^60}\\n'.format(' Frase Palindromo '))\n",
        "\n",
        "frase = str(input('Digite uma frase : ')).strip().upper().replace(\" \", \"\")\n",
        "inverso = frase[::-1]\n",
        "\n",
        "print('O inverso de {} é {}'.format(frase, inverso))\n",
        "\n",
        "if inverso == frase:\n",
        "    print('A frase digitada é um palíndromo')\n",
        "else:\n",
        "    print('A frase digitada não é um palíndromo')"
      ],
      "execution_count": 0,
      "outputs": []
    },
    {
      "cell_type": "code",
      "metadata": {
        "id": "hoLBi20NYbuT",
        "colab_type": "code",
        "colab": {}
      },
      "source": [
        "print('\\n{:#^60}\\n'.format(' Frase Palindromo '))\n",
        "\n",
        "frase = str(input('Digite uma frase : ')).strip().upper().split()\n",
        "junto = ''.join(frase)\n",
        "inverso = ''\n",
        "for letra in range(len(junto)-1, -1, -1):\n",
        "   inverso += (junto[letra])\n",
        "\n",
        "if inverso == junto:\n",
        "    print('A frase digitada é um palíndromo')\n",
        "else:\n",
        "    print('A frase digitada não é um palíndromo')"
      ],
      "execution_count": 0,
      "outputs": []
    },
    {
      "cell_type": "markdown",
      "metadata": {
        "colab_type": "text",
        "id": "hhKhxNspILIP"
      },
      "source": [
        "# **EX054**"
      ]
    },
    {
      "cell_type": "code",
      "metadata": {
        "id": "YOjm0XwNIQgr",
        "colab_type": "code",
        "colab": {}
      },
      "source": [
        "from datetime import date\n",
        "\n",
        "print('\\n{:#^60}\\n'.format(' Grupo da Maioridade '))\n",
        "anoAtual = date.today().year\n",
        "maiores = 0\n",
        "menores = 0\n",
        "\n",
        "print('\\033[31m'+'Aviso: Ano de nascimento não pode ser '\n",
        "                 'maior que ano atual ({}) '\n",
        "                 'ou menor que 1900 \\n'.format(anoAtual)+'\\033[m')\n",
        "for n in range(1, 7):\n",
        "    nasc = int(input('Em que ano a {} pessoa nasceu: '.format(n)))\n",
        "\n",
        "    while (0 < nasc < 1900) or (nasc > anoAtual) or (nasc < 0):\n",
        "        print('Ano de nascimento inválido,por favor tente novamente:')\n",
        "        nasc = int(input('Em que ano a {}ª pessoa nasceu: '.format(n)))\n",
        "\n",
        "    idade = anoAtual - nasc\n",
        "\n",
        "    if idade >= 18:\n",
        "        maiores += 1\n",
        "    else:\n",
        "        menores += 1\n",
        "\n",
        "print('Ao todo temos {} pessoas maiores de idade'.format(maiores))\n",
        "print('E também tivemos {} pessoas menores de idade'.format(menores))\n"
      ],
      "execution_count": 0,
      "outputs": []
    },
    {
      "cell_type": "markdown",
      "metadata": {
        "colab_type": "text",
        "id": "HG8iHZDbILwS"
      },
      "source": [
        "# **EX055**"
      ]
    },
    {
      "cell_type": "code",
      "metadata": {
        "colab_type": "code",
        "id": "WvHOW7qFILwV",
        "colab": {}
      },
      "source": [
        "('\\n{:#^60}\\n'.format(' Maior e menor da sequência '))\n",
        "\n",
        "lista = []\n",
        "for n in range(1, 6):\n",
        "    massa = float(input('Peso da {}ª da primeira pessoa: '.format(n)))\n",
        "\n",
        "    while (massa < 0) or (massa > 200):\n",
        "        print('Massa(Peso) incorreta , tente Novamente: ')\n",
        "        massa = float(input('Peso da {}ª da primeira pessoa: '.format(n)))\n",
        "    else:\n",
        "        lista += [massa]\n",
        "\n",
        "print('\\nO maior peso lido foi de {}kg'.format(max(lista)))\n",
        "print('O menor peso lido foi de {}kg'.format(min(lista)))\n"
      ],
      "execution_count": 0,
      "outputs": []
    },
    {
      "cell_type": "markdown",
      "metadata": {
        "colab_type": "text",
        "id": "vkm51jI3ILtL"
      },
      "source": [
        "# **EX056**"
      ]
    },
    {
      "cell_type": "code",
      "metadata": {
        "colab_type": "code",
        "id": "KgG8OczDILtN",
        "outputId": "1b20141a-334b-43c2-a368-de8cf82c97c3",
        "colab": {
          "base_uri": "https://localhost:8080/",
          "height": 204
        }
      },
      "source": [
        "print('\\n{:#^60}\\n'.format(' Analisador completo '))\n",
        "\n",
        "lista = []\n",
        "maiorIdade = int(0)\n",
        "nomeM = str('')\n",
        "numIdadeF = int(0)\n",
        "\n",
        "for n in range(1, 5):\n",
        "    print('-' * 5 + '{}ª PESSOA'.format(n) + '-' * 5)\n",
        "\n",
        "    nome = str(input('Nome: ')).strip().capitalize()\n",
        "\n",
        "    while nome.isnumeric():\n",
        "        print('Nome invalido, tente novamente!!!')\n",
        "        nome = str(input('Nome: ')).strip().capitalize()\n",
        "\n",
        "    idade = int(input('Idade: '))\n",
        "    while (idade < 1) or (idade > 125):\n",
        "        print('Idade invalida, tente novamente!!!')\n",
        "        idade = int(input('Idade: '))\n",
        "\n",
        "    sexo = str(input('Sexo [M/F ou m/f]: ')).strip().upper()\n",
        "    while (sexo != str('M')) and (sexo != str('F')):\n",
        "        print('Letra incorreta tente novamente!!!')\n",
        "        sexo = str(input('Sexo [M/F ou m/f]: ')).strip().upper()\n",
        "\n",
        "    lista = [idade]\n",
        "\n",
        "    if n == 1 and sexo == str('M'):\n",
        "        maiorIdade = idade\n",
        "        nomeM = nome\n",
        "    else:\n",
        "        if idade > maiorIdade and sexo == str('M'):\n",
        "            maiorIdade = idade\n",
        "            nomeM = nome\n",
        "\n",
        "    if n == 1 and sexo == str('F') and idade < 20:\n",
        "        numIdadeF += 1\n",
        "    else:\n",
        "        if sexo == str('F') and idade < 20:\n",
        "            numIdadeF += 1\n",
        "\n",
        "med = sum(lista) / len(lista)\n",
        "\n",
        "print('A média da idade do grupo é de {} anos'.format(med))\n",
        "\n",
        "if maiorIdade == 0 and nomeM == str(''):\n",
        "    print('Não nenhum homemidade nessa lista nessa lista')\n",
        "else:\n",
        "    print('O homem mais velho' \n",
        "    'tem {} anos e se chama {}'.format(maiorIdade, nomeM))\n",
        "\n",
        "print('Ao todo são {} mulheres com menos de 20 anos de idade'.format(numIdadeF))\n",
        "\n"
      ],
      "execution_count": 0,
      "outputs": [
        {
          "output_type": "stream",
          "text": [
            "\n",
            "################### Analisador completo ####################\n",
            "\n",
            "-----1ª PESSOA-----\n",
            "Nome: 1\n",
            "Nome invalido, tente novamente!!!\n",
            "Nome: klesio\n",
            "Idade: 12\n",
            "Sexo [M/F ou m/f]: m\n",
            "-----2ª PESSOA-----\n"
          ],
          "name": "stdout"
        }
      ]
    },
    {
      "cell_type": "markdown",
      "metadata": {
        "colab_type": "text",
        "id": "nvb4aibdILqP"
      },
      "source": [
        "# **EX057**"
      ]
    },
    {
      "cell_type": "code",
      "metadata": {
        "colab_type": "code",
        "id": "UKDjPoidILqR",
        "colab": {}
      },
      "source": [
        "print('\\n{:#^60}\\n'.format(' Validação de Dados '))\n",
        "\n",
        "sexo = str(input('Informe seu sexo: (M/m ou F/f): ')).strip().upper()\n",
        "\n",
        "while sexo != str('M') and sexo != str('F'):\n",
        "        print('Dados inválidos.', end='')\n",
        "        sexo = str(input(' Por favor , '\n",
        "                         'informe seu sexo: (M/m ou F/f): ')).strip().upper()\n",
        "print('Sexo {} registrado com sucesso'.format(sexo))\n"
      ],
      "execution_count": 0,
      "outputs": []
    },
    {
      "cell_type": "markdown",
      "metadata": {
        "colab_type": "text",
        "id": "hBgMmaS0ILnI"
      },
      "source": [
        "# **EX058**"
      ]
    },
    {
      "cell_type": "code",
      "metadata": {
        "colab_type": "code",
        "id": "b7OkmKkBILnK",
        "colab": {}
      },
      "source": [
        "from random import randint\n",
        "from time import sleep\n",
        "from termcolor import colored\n",
        "\n",
        "print(colored('-=-', 'yellow') * 20)\n",
        "print(colored(' Os números são gerados aleatóriamente entre 0 e 10 ' , 'blue'))\n",
        "print(colored('-=-', 'yellow') * 20)\n",
        "\n",
        "nJogadas = 0\n",
        "player = -1\n",
        "computer = randint(0, 10)\n",
        "\n",
        "print('Preocessando números gerados ', end='')\n",
        "sleep(1)\n",
        "print('.', end='')\n",
        "sleep(1)\n",
        "print('.', end='')\n",
        "sleep(1)\n",
        "print('.', end='')\n",
        "\n",
        "sleep(1)\n",
        "print('\\nEscolha um número entre 0 e 10')\n",
        "sleep(1)\n",
        "\n",
        "while computer != player:\n",
        "    player = int(input('\\nQual o seu palpite ? '))\n",
        "\n",
        "    if computer > player:\n",
        "        print('Mais... tente outra vez')\n",
        "    if computer < player:\n",
        "        print('menos... tente outra vez')\n",
        "\n",
        "    nJogadas += 1\n",
        "\n",
        "else:\n",
        "    print('\\nAcertou com {} tentativas . Parabéns!!!'.format(nJogadas))"
      ],
      "execution_count": 0,
      "outputs": []
    },
    {
      "cell_type": "code",
      "metadata": {
        "id": "5DKBdb8X6sTK",
        "colab_type": "code",
        "colab": {}
      },
      "source": [
        "from random import randint\n",
        "computador = randint(0,10)\n",
        "print('Sou seu computador... Acabei de pessar em 0 e 10 ')\n",
        "print('Será que você consegue adivinhar qual foi ?')\n",
        "acertou = False\n",
        "palpites = 0 \n",
        "while not acertou:\n",
        "    jogador = int(input('Qual é seu palpite ? '))\n",
        "    palpites +=1\n",
        "    if jogador == computador:\n",
        "        acertou = True\n",
        "    else:\n",
        "        if jogador < computador:\n",
        "            print('Mais... tente mais uma vez.')\n",
        "        elif jogador > computador:\n",
        "            print('Menos... Tente mais uma vez.')\n",
        "print('Acertou com {} tentativas. Parabéns! '.format(palpites))\n"
      ],
      "execution_count": 0,
      "outputs": []
    },
    {
      "cell_type": "markdown",
      "metadata": {
        "colab_type": "text",
        "id": "boIyPSvYILkD"
      },
      "source": [
        "# **EX059**"
      ]
    },
    {
      "cell_type": "code",
      "metadata": {
        "colab_type": "code",
        "id": "YQYVs1vQILkG",
        "colab": {}
      },
      "source": [
        "from time import sleep\n",
        "\n",
        "print('\\n{:#^60}\\n'.format(' Criando um Menu de Opções '))\n",
        "\n",
        "n1 = int(input('Primeiro Valor: '))\n",
        "n2 = int(input('Segundo Valor: '))\n",
        "opcao = 0\n",
        "\n",
        "while opcao != 5:\n",
        "    print('-=-' * 20)\n",
        "    print('[ 1 ] Somar')\n",
        "    print('[ 2 ] Multiplicar')\n",
        "    print('[ 3 ] Maior')\n",
        "    print('[ 4 ] Novos numeros')\n",
        "    print('[ 5 ] Sair do programa')\n",
        "\n",
        "    opcao = int(input('>>>> Qual a sua opção ? '))\n",
        "\n",
        "    if opcao == 1:\n",
        "        soma = n1 + n2\n",
        "        print('\\nA soma entre {} + {} é {}'.format(n1, n2, soma))\n",
        "    elif opcao == 2:\n",
        "        mult = n1 * n\n",
        "        print('\\nA multiplicação entre {} x {} é {}'.format(n1, n2, mult))\n",
        "    elif opcao == 3:\n",
        "        if n1 > n2:\n",
        "            maior = n1\n",
        "        else:\n",
        "            maior = n2\n",
        "        print('\\nO maior entre {} e {} é {} '.format(n1, n2, maior))\n",
        "    elif opcao == 4:\n",
        "        n1 = int(input('Primeiro Valor: '))\n",
        "        n2 = int(input('Segundo Valor: '))\n",
        "    elif opcao == 5:\n",
        "        print('\\nSaindo ', end='')\n",
        "        sleep(1)\n",
        "        print('.', end='')\n",
        "        sleep(1)\n",
        "        print('.', end='')\n",
        "        sleep(1)\n",
        "        print('.', end='')\n",
        "        sleep(1)\n",
        "        print( '\\n' + '-=-' * 20)\n",
        "        print('Fim do programa! volte sempre!')\n",
        "\n",
        "    else:\n",
        "        print('Opção invalida , tente novamente !!!')\n",
        "\n"
      ],
      "execution_count": 0,
      "outputs": []
    },
    {
      "cell_type": "code",
      "metadata": {
        "id": "oPVxStqEIxTE",
        "colab_type": "code",
        "colab": {}
      },
      "source": [
        "from time import sleep\n",
        "\n",
        "print('\\n{:#^60}\\n'.format(' Criando um Menu de Opções '))\n",
        "\n",
        "n1 = int(input('Primeiro Valor: '))\n",
        "n2 = int(input('Segundo Valor: '))\n",
        "opcao = 0\n",
        "\n",
        "while opcao != 5:\n",
        "    print('-=-' * 20)\n",
        "    print('''    [ 1 ] Somar \n",
        "    [ 2 ] Multiplicar\n",
        "    [ 3 ] Maior\n",
        "    [ 4 ] Novos numeros\n",
        "    [ 5 ] Sair do programa''')\n",
        "\n",
        "    opcao = int(input('>>>> Qual a sua opção ? '))\n",
        "\n",
        "    if opcao == 1:\n",
        "        soma = n1 + n2\n",
        "        print('\\nA soma entre {} + {} é {}'.format(n1, n2, soma))\n",
        "    elif opcao == 2:\n",
        "        mult = n1 * n\n",
        "        print('\\nA multiplicação entre {} x {} é {}'.format(n1, n2, mult))\n",
        "    elif opcao == 3:\n",
        "        if n1 > n2:\n",
        "            maior = n1\n",
        "        else:\n",
        "            maior = n2\n",
        "        print('\\nO maior entre {} e {} é {} '.format(n1, n2, maior))\n",
        "    elif opcao == 4:\n",
        "        n1 = int(input('Primeiro Valor: '))\n",
        "        n2 = int(input('Segundo Valor: '))\n",
        "    elif opcao == 5:\n",
        "        print('\\nSaindo ', end='')\n",
        "        sleep(1)\n",
        "        print('.', end='')\n",
        "        sleep(1)\n",
        "        print('.', end='')\n",
        "        sleep(1)\n",
        "        print('.', end='')\n",
        "        sleep(1)\n",
        "        print( '\\n' + '-=-' * 20)\n",
        "        print('Fim do programa! volte sempre!')\n",
        "\n",
        "    else:\n",
        "        print('Opção invalida , tente novamente !!!')\n"
      ],
      "execution_count": 0,
      "outputs": []
    },
    {
      "cell_type": "markdown",
      "metadata": {
        "colab_type": "text",
        "id": "CyiyaR2ZILhB"
      },
      "source": [
        "# **EX060**"
      ]
    },
    {
      "cell_type": "code",
      "metadata": {
        "colab_type": "code",
        "id": "Y9UJsi_CILhD",
        "colab": {}
      },
      "source": [
        "print('\\n{:#^60}\\n'.format(' Cálculo do Fatorial '))\n",
        "\n",
        "n = int(input('Digite um número para \\ncalcular seu fatorial: '))\n",
        "c = n\n",
        "fat = 1\n",
        "print('Fatoria de {}!= '.format(n), end='')\n",
        "while c != 0:\n",
        "    print(c, 'x ' if c > 1 else '= ', end='')\n",
        "    fat *= c\n",
        "    c -= 1\n",
        "\n",
        "print(fat)\n"
      ],
      "execution_count": 0,
      "outputs": []
    },
    {
      "cell_type": "code",
      "metadata": {
        "id": "munCDY_WlR3R",
        "colab_type": "code",
        "colab": {}
      },
      "source": [
        "print('\\n{:#^60}\\n'.format(' Cálculo do Fatorial '))\n",
        "\n",
        "n = int(input('Digite um número para \\ncalcular seu fatorial: '))\n",
        "fat = 1\n",
        "print('Fatoria de {}!= '.format(n, end=''))\n",
        "for c in range(n, 0 , -1):\n",
        "    print(c, 'x ' if c > 1 else '= ', end='')\n",
        "    fat *= c\n",
        "print(fat)\n"
      ],
      "execution_count": 0,
      "outputs": []
    },
    {
      "cell_type": "code",
      "metadata": {
        "id": "BU-cmttRmaK7",
        "colab_type": "code",
        "colab": {}
      },
      "source": [
        "from math import factorial\n",
        "n = int(input('Digite um numero para calcular seu fatorial: '))\n",
        "fat = factorial(n)\n",
        "print('O fatorial de {} é {} '.format(n, fat))\n"
      ],
      "execution_count": 0,
      "outputs": []
    },
    {
      "cell_type": "markdown",
      "metadata": {
        "colab_type": "text",
        "id": "FwK-J_9hILd5"
      },
      "source": [
        "# **EX061**"
      ]
    },
    {
      "cell_type": "code",
      "metadata": {
        "colab_type": "code",
        "id": "-SE-lE9IILd8",
        "colab": {}
      },
      "source": [
        "print('\\n{:#^60}\\n'.format(' Progressão Aritmética v2.0'))\n",
        "\n",
        "termo = int(input('Primeiro termo da P.A : '))\n",
        "razao = int(input('Razão da P.A: '))\n",
        "print('')\n",
        "c = 1\n",
        "while c < 11:\n",
        "    a = termo + (c - 1) * razao\n",
        "    print('{}'.format(a), end=' → ')\n",
        "    c += 1\n",
        "print('ACABOU')\n",
        "print('{:=^40}'.format(''))\n",
        "    "
      ],
      "execution_count": 0,
      "outputs": []
    },
    {
      "cell_type": "code",
      "metadata": {
        "id": "s8zeQalFVarx",
        "colab_type": "code",
        "colab": {}
      },
      "source": [
        "print('\\n{:#^60}\\n'.format(' Progressão Aritmética v2.0'))\n",
        "\n",
        "primTermo = int(input('Primeiro termo da P.A : '))\n",
        "razao = int(input('Razão da P.A: '))\n",
        "termo = primTermo \n",
        "c = 1\n",
        "while c < 11:\n",
        "    print('{}'.format(termo), end=' → ')\n",
        "    termo += razao\n",
        "    c += 1\n",
        "print('FIM')\n",
        "print('{:=^40}'.format(''))\n",
        "    "
      ],
      "execution_count": 0,
      "outputs": []
    },
    {
      "cell_type": "markdown",
      "metadata": {
        "colab_type": "text",
        "id": "B1oMTjkXILa0"
      },
      "source": [
        "# **EX062**"
      ]
    },
    {
      "cell_type": "code",
      "metadata": {
        "colab_type": "code",
        "id": "BzjI5D92ILa2",
        "colab": {}
      },
      "source": [
        "print('\\n{:#^60}\\n'.format(' Progressão Aritmética v3.0 '))\n",
        "\n",
        "primTermo = int(input('Primeiro termo da P.A : '))\n",
        "razao = int(input('Razão da P.A: '))\n",
        "termo = primTermo \n",
        "c = 1\n",
        "tot = 10\n",
        "\n",
        "while c <= tot :\n",
        "    print('{}  → '.format(termo), end='')\n",
        "    if c == tot:\n",
        "        print('Pausa')\n",
        "        qt = int(input('Quantos termos você quer mostrar a mais ? '))  \n",
        "        tot += qt\n",
        "        if qt == 0:\n",
        "            c = tot\n",
        "    termo += razao\n",
        "    c += 1        \n",
        "print('\\nProgressao finalizada com {} termos mostrados'.format(c-1))\n",
        "print('{:=^40}'.format(''))\n"
      ],
      "execution_count": 0,
      "outputs": []
    },
    {
      "cell_type": "code",
      "metadata": {
        "id": "Rgq5eVwC_-5Z",
        "colab_type": "code",
        "colab": {}
      },
      "source": [
        "print('\\n{:#^60}\\n'.format(' Progressão Aritmética v3.0 '))\n",
        "\n",
        "primTermo = int(input('Primeiro termo da P.A : '))\n",
        "razao = int(input('Razão da P.A: '))\n",
        "termo = primTermo \n",
        "c = 1 \n",
        "tot = 0\n",
        "mais = 10 \n",
        "while mais != 0:\n",
        "    tot += mais\n",
        "    while c <= tot:\n",
        "         print('{}  → '.format(termo), end='')\n",
        "         termo += razao\n",
        "         c += 1   \n",
        "    print('Pausa')\n",
        "    mais = int(input('Quantos termos você quer mostrar a mais ? '))  \n",
        "\n",
        "print('\\nProgressao finalizada com {} termos mostrados'.format(c))\n",
        "print('{:=^40}'.format(''))\n"
      ],
      "execution_count": 0,
      "outputs": []
    },
    {
      "cell_type": "markdown",
      "metadata": {
        "colab_type": "text",
        "id": "FvydQD16ILX1"
      },
      "source": [
        "# **EX063**"
      ]
    },
    {
      "cell_type": "code",
      "metadata": {
        "colab_type": "code",
        "id": "rbjPmtWcILX3",
        "colab": {}
      },
      "source": [
        "print('\\n{:#^60}\\n'.format(' Sequência de Fibonacci v1.0 '))\n",
        "\n",
        "n = int(input('Quantos termos voce quer mostrar ? '))\n",
        "a1 = 0\n",
        "b2 = 1\n",
        "c = 1\n",
        "\n",
        "while c <= n:\n",
        "    termo = a1 + b2\n",
        "    b2 = a1\n",
        "    a1 = termo\n",
        "    c += 1\n",
        "    print('{}  → '.format(b2), end='')\n",
        "    \n",
        "print('FIM')\n",
        "print('{:=^40}'.format(''))\n",
        "\n"
      ],
      "execution_count": 0,
      "outputs": []
    },
    {
      "cell_type": "markdown",
      "metadata": {
        "colab_type": "text",
        "id": "L-PgxN9zILUv"
      },
      "source": [
        "# **EX064**"
      ]
    },
    {
      "cell_type": "code",
      "metadata": {
        "colab_type": "code",
        "id": "SmDYaEVUILUx",
        "colab": {}
      },
      "source": [
        "print('\\n{:#^60}\\n'.format(' Tratando vários valores v1.0 '))\n",
        "soma = n = 0\n",
        "c = -1\n",
        "while n != 999:\n",
        "    soma += n\n",
        "    c += 1\n",
        "    n = int(input('Digite Numeros inteiros: '))\n",
        "print('Numeros digitados {} números e a soma entres foi {}'.format(c, soma))\n",
        "print('{:=^40}'.format(''))\n"
      ],
      "execution_count": 0,
      "outputs": []
    },
    {
      "cell_type": "code",
      "metadata": {
        "id": "s-Qajm5xEe5g",
        "colab_type": "code",
        "colab": {}
      },
      "source": [
        ""
      ],
      "execution_count": 0,
      "outputs": []
    },
    {
      "cell_type": "markdown",
      "metadata": {
        "colab_type": "text",
        "id": "I7T1EIAmILP5"
      },
      "source": [
        "# **EX065**"
      ]
    },
    {
      "cell_type": "code",
      "metadata": {
        "colab_type": "code",
        "id": "i-SQfHhcIKFp",
        "outputId": "557c7124-bb5b-4ad1-c8d3-ea668967a65c",
        "colab": {
          "base_uri": "https://localhost:8080/",
          "height": 235
        }
      },
      "source": [
        "print('\\n{:#^60}\\n'.format(' Tratando vários valores v1.0 '))\n",
        "soma = c = med = maior = menor = 0\n",
        "opcao = str('')\n",
        "\n",
        "while opcao != str('N'):\n",
        "\n",
        "    n = float(input('Digite um Numero: '))\n",
        "    opcao = str(input('Deseja continuar[S/N ou s/n]: ')).upper().strip()\n",
        "    c += 1\n",
        "    while opcao != str('S') and opcao != str('N'):\n",
        "        print('Opcao invalida , Tente novamente!')\n",
        "        opcao = str(input('Deseja continuar[S/N ou s/n]: ')).upper().strip()\n",
        "    else:\n",
        "        if c == 1:\n",
        "            soma = n\n",
        "            med = n / 2\n",
        "        else:\n",
        "            soma += n\n",
        "            med = soma / 2\n",
        "\n",
        "        if c == 1:\n",
        "            maior = n\n",
        "            menor = n\n",
        "        elif n > maior:\n",
        "            maior = n\n",
        "        else:\n",
        "            menor = n\n",
        "    \n",
        "print('{:=^40}'.format(''))\n",
        "if c == 1 :\n",
        "    print('''Você digitou {:.0f} número e a média foi {:.2f}\n",
        "O maior valor foi {:.0f} e o menor foi {:.0f} '''.format(c, med, maior, menor))\n",
        "else:\n",
        "    print('''Você digitou {:.0f} números e a média foi {:.2f}\n",
        "O maior valor foi {:.0f} e o menor foi {:.0f} '''.format(c, med, maior, menor))\n",
        "\n",
        "print('{:=^40}'.format(''))\n"
      ],
      "execution_count": 0,
      "outputs": [
        {
          "output_type": "stream",
          "text": [
            "\n",
            "############### Tratando vários valores v1.0 ###############\n",
            "\n",
            "Digite um Numero: 2\n",
            "Deseja continuar[S/N ou s/n]: s\n",
            "Digite um Numero: 8\n",
            "Deseja continuar[S/N ou s/n]: 2\n",
            "Opcao invalida , Tente novamente!\n",
            "Deseja continuar[S/N ou s/n]: n\n",
            "========================================\n",
            "Você digitou 2 números e a média foi 5.00\n",
            "O maior valor foi 8 e o menor foi 2 \n",
            "========================================\n"
          ],
          "name": "stdout"
        }
      ]
    },
    {
      "cell_type": "code",
      "metadata": {
        "id": "5naoEDmUWdEo",
        "colab_type": "code",
        "outputId": "4916960b-9e95-4a56-c03d-303aece49b71",
        "colab": {
          "base_uri": "https://localhost:8080/",
          "height": 84
        }
      },
      "source": [
        "resp = 'S'\n",
        "soma = quant = media = maior = menor = 0 \n",
        "while resp in 'Ss':\n",
        "    num = int(input('Digite um número: '))\n",
        "    soma += num \n",
        "    quant += 1\n",
        "    if quant == 1 :\n",
        "        maior = menor = num\n",
        "    else:\n",
        "        if num > maior :\n",
        "            num = maior\n",
        "        if num < menor:\n",
        "            menor = num\n",
        "    resp = str(input('Quer continuar ? [S/N]')).upper().strip()[0]\n",
        "media = soma/quant\n",
        "print('Você digitou {} numeros e a media foi {}'.format(quant, media))\n",
        "print('O maior valor foi {} e o menor foi {}'.format(maior, menor))\n",
        "\n"
      ],
      "execution_count": 0,
      "outputs": [
        {
          "output_type": "stream",
          "text": [
            "Digite um número: 2\n",
            "Quer continuar ? [S/N]3\n",
            "Você digitou 1 numeros e a media foi 2.0\n",
            "O maior valor foi 2 e o menor foi 2\n"
          ],
          "name": "stdout"
        }
      ]
    },
    {
      "cell_type": "markdown",
      "metadata": {
        "colab_type": "text",
        "id": "MkupjGtFIKCg"
      },
      "source": [
        "# **EX066**"
      ]
    },
    {
      "cell_type": "code",
      "metadata": {
        "colab_type": "code",
        "id": "KIV5X1CUIKCi",
        "colab": {}
      },
      "source": [
        "print('\\n{:#^60}\\n'.format(' Tratando vários valores v1.0 '))\n",
        "soma = n = c = 0\n",
        "\n",
        "while True:\n",
        "    soma += n\n",
        "    n = int(input('Digite Um valor (999 para parar): '))\n",
        "    if n == 999:\n",
        "        break\n",
        "    c += 1\n",
        "\n",
        "#print('Numeros digitados {} números e a soma entres foi {}'.format(c, soma))\n",
        "if c == 1:\n",
        "    print(print(f'A soma de {c} valor foi {soma}'))\n",
        "else:   \n",
        "    print(f'A soma dos {c} valores foi {soma}')\n",
        "print('{:=^40}'.format(''))"
      ],
      "execution_count": 0,
      "outputs": []
    },
    {
      "cell_type": "markdown",
      "metadata": {
        "id": "O8HTR7fPAdoY",
        "colab_type": "text"
      },
      "source": [
        "# **EX067**"
      ]
    },
    {
      "cell_type": "code",
      "metadata": {
        "id": "am8Tj063Agvq",
        "colab_type": "code",
        "colab": {}
      },
      "source": [
        "print('\\n{:#^60}\\n'.format(' Tabuada v.3.0 '))\n",
        "n = int(input('Quer ver a tabuada de qual valor? '))\n",
        "print('--' * 15)\n",
        "while n > 0:\n",
        "    for c in range(1, 11):\n",
        "        print('{} X {} = {}'.format(n, c, n * c))\n",
        "    print('--' * 15)\n",
        "    n = int(input('Quer ver a tabuada de qual valor? '))\n",
        "    print('--' * 15)\n",
        "\n",
        "print('PROGRAMA TABUADA ENCERRADA. Volte sempre!')\n"
      ],
      "execution_count": 0,
      "outputs": []
    },
    {
      "cell_type": "code",
      "metadata": {
        "id": "4XQqZegLhJHq",
        "colab_type": "code",
        "colab": {}
      },
      "source": [
        "print('\\n{:#^60}\\n'.format(' Tabuada v.3.0 '))\n",
        "\n",
        "print('--' * 15)\n",
        "while True:\n",
        "    n = int(input('Quer ver a tabuada de qual valor? '))\n",
        "    print('--' * 15)\n",
        "    if n < 0:\n",
        "        break\n",
        "    for c in range(1, 11):\n",
        "        print(f'{n} X {c} = {n*c}')\n",
        "    print('--' * 15)\n",
        "\n",
        "print('PROGRAMA TABUADA ENCERRADA. Volte sempre!')\n"
      ],
      "execution_count": 0,
      "outputs": []
    },
    {
      "cell_type": "markdown",
      "metadata": {
        "colab_type": "text",
        "id": "Mm1BswZIIJ7m"
      },
      "source": [
        "# **EX068**"
      ]
    },
    {
      "cell_type": "code",
      "metadata": {
        "colab_type": "code",
        "id": "og4VD5xYIJ7p",
        "colab": {}
      },
      "source": [
        "from random import randint\n",
        "\n",
        "print('-=-' * 20)\n",
        "print(' VAMOS JOGAR PAR OU ÍMPAR ')\n",
        "print('-=-' * 20)\n",
        "\n",
        "computer = randint(0, 10)\n",
        "player = vence = str(' ')\n",
        "n = soma = nJogadas = 0\n",
        "\n",
        "while player == vence:\n",
        "    n = int(input('Diga um valor : '))\n",
        "    player = str(input('Par ou impar ? [P/I] ou [p/i] ')).lower().strip()\n",
        "    while player != str('p') and player != str('i'):\n",
        "        print('Digito icorreto, tente novamente!!!')\n",
        "        player = str(input('Par ou impar ? [P/I] ou [p/i] ')).lower().strip()\n",
        "\n",
        "    soma = computer + n\n",
        "\n",
        "    if soma % 2 == 0:\n",
        "        vence = 'p'\n",
        "        print('---' * 20)\n",
        "        print(f'Você jogou {n} e o computador {computer} . total de {soma} deu Par')\n",
        "        print('---' * 20)\n",
        "\n",
        "    else:\n",
        "        vence = 'i'\n",
        "        print('---'*20)\n",
        "        print(f'Você jogou {n} e o computador {computer} . total de {soma} deu Impar')\n",
        "        print('---' * 20)\n",
        "\n",
        "    if player == vence:\n",
        "        nJogadas += 1\n",
        "\n",
        "        print('Você venceu !!!')\n",
        "        print('Vamos jogar novamente.....')\n",
        "        print('-=-' * 20)\n",
        "\n",
        "if nJogadas == 0:\n",
        "    print('Você Perdeu !!!')\n",
        "    print(f'Game over você não venceu nenhuma vez.')\n",
        "elif nJogadas == 1:\n",
        "    print('Você Perdeu !!!')\n",
        "    print(f'Game over você venceu {nJogadas} vez.')\n",
        "else:\n",
        "    print('Você Perdeu !!!')\n",
        "    print(f'Game over você venceu {nJogadas} vezes.')\n"
      ],
      "execution_count": 0,
      "outputs": []
    },
    {
      "cell_type": "code",
      "metadata": {
        "id": "MBo-DKXxlL1s",
        "colab_type": "code",
        "colab": {}
      },
      "source": [
        "from random import randint\n",
        "v = 0\n",
        "while True:\n",
        "    jogador = int(input('Digue o valor: '))\n",
        "    comp = randint(0, 10)\n",
        "    total = jogador + comp\n",
        "    tipo = ' '\n",
        "    while tipo not in 'PI':\n",
        "        tipo = str(input('Par ou impar ? [P/I]')).strip().upper()[0]\n",
        "    print(f'Voçê jogou {jogador} e o computador {comp}.' \n",
        "    'Total de {total}', end'')\n",
        "    print('DEU PAR ' if total % 2 == 0 else 'DEU IMPAR')\n",
        "    if tipo == \"P\":\n",
        "        if total % 2 == 0 :\n",
        "            print('Voçê Venceu!')\n",
        "        else:\n",
        "            print('Você perdeu!')\n",
        "            break  \n",
        "    elif tipo == 'I':\n",
        "        if total % 2 == 0 :\n",
        "            print('Voçê Venceu!')\n",
        "        else:\n",
        "            print('Você perdeu!')\n",
        "            break\n",
        "    print('Vamos jogar novamente...')\n",
        "print(f'Você venceu {v} vezes ')\n",
        " "
      ],
      "execution_count": 0,
      "outputs": []
    },
    {
      "cell_type": "code",
      "metadata": {
        "id": "NpwPCMmrEh6c",
        "colab_type": "code",
        "colab": {}
      },
      "source": [
        "from random import randint\n",
        "\n",
        "print('-=-' * 20)\n",
        "print(' VAMOS JOGAR PAR OU ÍMPAR ')\n",
        "print('-=-' * 20)\n",
        "\n",
        "v = 0\n",
        "while True:\n",
        "    computer = randint(0, 10)\n",
        "    player = vence = str(' ')\n",
        "    n = soma = nJogadas = 0\n",
        "\n",
        "    while player == vence:\n",
        "        n = int(input('Diga um valor : '))\n",
        "        player = str(input('Par ou impar ? [P/I] ou [p/i] ')).lower().strip()\n",
        "    while player != str('p') and player != str('i'):\n",
        "        print('Digito icorreto, tente novamente!!!')\n",
        "        player = str(input('Par ou impar ? [P/I] ou [p/i] ')).lower().strip()\n",
        "\n",
        "    soma = computer + n\n",
        "\n",
        "    if soma % 2 == 0:\n",
        "        vence = 'p'\n",
        "        print('---' * 20)\n",
        "        print(f'Você jogou {n} e o computador {computer} . total de {soma} deu Par')\n",
        "        print('---' * 20)\n",
        "\n",
        "    else:\n",
        "        vence = 'i'\n",
        "        print('---'*20)\n",
        "        print(f'Você jogou {n} e o computador {computer} . total de {soma} deu Impar')\n",
        "        print('---' * 20)\n",
        "\n",
        "    if player == vence:\n",
        "        nJogadas += 1\n",
        "\n",
        "        print('Você venceu !!!')\n",
        "        print('Vamos jogar novamente.....')\n",
        "        print('-=-' * 20)\n",
        "    else:\n",
        "        break\n",
        "\n",
        "if nJogadas == 0:\n",
        "    print('Você Perdeu !!!')\n",
        "    print(f'Game over você não venceu nenhuma vez.')\n",
        "elif nJogadas == 1:\n",
        "    print('Você Perdeu !!!')\n",
        "    print(f'Game over você venceu {nJogadas} vez.')\n",
        "else:\n",
        "    print('Você Perdeu !!!')\n",
        "    print(f'Game over você venceu {nJogadas} vezes.')\n",
        "    "
      ],
      "execution_count": 0,
      "outputs": []
    },
    {
      "cell_type": "markdown",
      "metadata": {
        "colab_type": "text",
        "id": "iadoBev6IJ2A"
      },
      "source": [
        "# **EX069**"
      ]
    },
    {
      "cell_type": "code",
      "metadata": {
        "colab_type": "code",
        "id": "l0S_6cYsIJWt",
        "colab": {}
      },
      "source": [
        "print('\\n{:#^60}\\n'.format(' Análise de dados do grupo '))\n",
        "\n",
        "maioresIdade = maiorIdade = numIdadeF = numeroM = 0\n",
        "n = 1\n",
        "cont = str('s').lower().strip()\n",
        "while cont == 's':\n",
        "    print('-' * 5 + '{}ª PESSOA'.format(n) + '-' * 5)\n",
        "\n",
        "    nome = str(input('Nome: ')).strip().capitalize()\n",
        "\n",
        "    while nome.isnumeric():\n",
        "        print('Nome invalido, tente novamente!!!')\n",
        "        nome = str(input('Nome: ')).strip().capitalize()\n",
        "\n",
        "    idade = int(input('Idade: '))\n",
        "    while (idade < 1) or (idade > 125):\n",
        "        print('Idade invalida, tente novamente!!!')\n",
        "        idade = int(input('Idade: '))\n",
        "\n",
        "    sexo = str(input('Sexo [M/F ou m/f]: ')).strip().upper()\n",
        "    while (sexo != str('M')) and (sexo != str('F')):\n",
        "        print('Letra incorreta tente novamente!!!')\n",
        "        sexo = str(input('Sexo [M/F ou m/f]: ')).strip().upper()\n",
        "\n",
        "    if n == 1 and sexo == str('M'):\n",
        "        numeroM += 1\n",
        "    else:\n",
        "        if sexo == str('M'):\n",
        "            numeroM += 1\n",
        "\n",
        "    if n == 1 and sexo == str('F') and idade < 20:\n",
        "        numIdadeF += 1\n",
        "    else:\n",
        "        if sexo == str('F') and idade < 20:\n",
        "            numIdadeF += 1\n",
        "\n",
        "    cont = str(input('Quer continuar ? [S/N] ou [s/n] ')).lower().strip()\n",
        "    while cont != 's' and cont != 'n':\n",
        "        print('Digito incorreto , tente novamente!')\n",
        "        cont = str(input('Quer continuar ? [S/N] ou [s/n] ')).lower().strip()\n",
        "    \n",
        "    if idade > 18:\n",
        "        maioresIdade += 1\n",
        "\n",
        "    n += 1\n",
        "\n",
        "print(f'Total de pessoas com mais de 18 anos: {maioresIdade} ')\n",
        "if numeroM == 0:\n",
        "    print('Não tem nenhum homem nessa lista')\n",
        "elif numeroM == 1:\n",
        "    print('Ao todo temos {} homem cadastrado'.format(numeroM))\n",
        "else:\n",
        "    print('Ao todo temos {} homens cadastrados'.format(numeroM))\n",
        "\n",
        "print('Ao todo são {} mulheres com menos de 20 anos de idade'.format(numIdadeF))\n"
      ],
      "execution_count": 0,
      "outputs": []
    },
    {
      "cell_type": "code",
      "metadata": {
        "id": "P9eq83xcOOga",
        "colab_type": "code",
        "colab": {}
      },
      "source": [
        "print('\\n{:#^60}\\n'.format(' Análise de dados do grupo '))\n",
        "\n",
        "n = 1\n",
        "maioresIdade = maiorIdade = numIdadeF = numeroM = 0\n",
        "while True:\n",
        "    resp = str('s').lower().strip()\n",
        "\n",
        "    print('-' * 5 + '{}ª PESSOA'.format(n) + '-' * 5)\n",
        "    nome = str(input('Nome: ')).strip().capitalize()\n",
        "\n",
        "    while nome.isnumeric():\n",
        "        print('Nome invalido, tente novamente!!!')\n",
        "        nome = str(input('Nome: ')).strip().capitalize()\n",
        "\n",
        "    idade = int(input('Idade: '))\n",
        "    while (idade < 1) or (idade > 125):\n",
        "        print('Idade invalida, tente novamente!!!')\n",
        "        idade = int(input('Idade: '))\n",
        "\n",
        "    while sexo not in ('MF'):\n",
        "        sexo = str(input('Sexo [M/F ou m/f]: ')).strip().upper()\n",
        "        if sexo not in ('MF'):\n",
        "            print('Letra incorreta tente novamente!!!')\n",
        "\n",
        "    if sexo == str('M'):\n",
        "            numeroM += 1\n",
        "\n",
        "    if sexo == str('F') and idade < 20:\n",
        "            numIdadeF += 1\n",
        "\n",
        "    if idade > 18:\n",
        "        maioresIdade += 1\n",
        "\n",
        "    n += 1\n",
        "\n",
        "    resp = ' '\n",
        "\n",
        "    while resp not in ('SN'):\n",
        "        resp = str(input('Quer continuar ? [S/N] ou [s/n] ')).strip().upper()\n",
        "        if resp not in ('SN'):\n",
        "            print('Digito incorreto , tente novamente!')\n",
        "\n",
        "    if resp == 'N':\n",
        "            break\n",
        "    \n",
        "print(f'Total de pessoas com mais de 18 anos: {maioresIdade} ')\n",
        "if numeroM == 0:\n",
        "    print('Não tem nenhum homem nessa lista')\n",
        "elif numeroM == 1:\n",
        "    print('Ao todo temos {} homem cadastrado'.format(numeroM))\n",
        "else:\n",
        "    print('Ao todo temos {} homens cadastrados'.format(numeroM))\n",
        "\n",
        "print('Ao todo são {} mulheres com menos de 20 anos de idade'.format(numIdadeF))"
      ],
      "execution_count": 0,
      "outputs": []
    },
    {
      "cell_type": "markdown",
      "metadata": {
        "colab_type": "text",
        "id": "mp0O6OXmIJTf"
      },
      "source": [
        "# **EX070**"
      ]
    },
    {
      "cell_type": "code",
      "metadata": {
        "colab_type": "code",
        "id": "PUpefZHMIJTi",
        "colab": {}
      },
      "source": [
        "print('\\n{:#^60}\\n'.format(' Estatisticas em Produtos '))\n",
        "print('--'*20)\n",
        "print('      Loja Super Baratão         ')\n",
        "print('--'*20)\n",
        "\n",
        "menorPreco = somaTot = maiorM = menorProd = c = 0\n",
        "barato = str('')\n",
        "cont = str('s').lower().strip()\n",
        "nomeBarato= str('')\n",
        "while cont == str('s'):\n",
        "\n",
        "    nome = str(input(f'Nome do produto: ')).strip()\n",
        "    preco = float(input(f'Preço do produto:R$'))\n",
        "\n",
        "    c += 1\n",
        "    somaTot += preco\n",
        "\n",
        "    if preco > 1000:\n",
        "        maiorM += 1\n",
        "\n",
        "    if c == 1:\n",
        "        nomeBarato = nome\n",
        "        menorPreco = preco\n",
        "    elif preco < menorPreco:\n",
        "        nomeBarato = nome\n",
        "        menorPreco = preco\n",
        "\n",
        "    cont = str(input('Quer continuar ? [S/N] ou [s/n] ')).lower().strip()\n",
        "    while cont != 's' and cont != 'n':\n",
        "        print('Digito incorreto , tente novamente!')\n",
        "        cont = str(input('Quer continuar ? [S/N] ou [s/n] ')).lower().strip()\n",
        "\n",
        "    print('-=-' * 5)\n",
        "\n",
        "print('\\n{:-^60}\\n'.format(' Fim do Programa '))\n",
        "\n",
        "print(f'O total da compra foi R${somaTot:.2f} ')\n",
        "print(f'Temos {maiorM} produtos custando mais de R$1000.00 ')\n",
        "print(f'O produto mais barato '\n",
        "      f'foi {nomeBarato.capitalize()} que custa R${menorPreco:.2f}')\n",
        "\n"
      ],
      "execution_count": 0,
      "outputs": []
    },
    {
      "cell_type": "code",
      "metadata": {
        "id": "lgEgnaWbO5cC",
        "colab_type": "code",
        "colab": {}
      },
      "source": [
        "print('\\n{:#^60}\\n'.format(' Estatisticas em Produtos '))\n",
        "print('--'*20)\n",
        "print('      Loja Super Baratão         ')\n",
        "print('--'*20)\n",
        "\n",
        "menorPreco = somaTot = maiorM = menorProd = c = 0\n",
        "while True:\n",
        "    barato = str('')\n",
        "    resp = str('s').lower().strip()\n",
        "    nomeBarato= str('')\n",
        "    nome = str(input(f'Nome do produto: ')).strip()\n",
        "    preco = float(input(f'Preço do produto:R$'))\n",
        "    c += 1\n",
        "    somaTot += preco\n",
        "\n",
        "    if preco > 1000:\n",
        "        maiorM += 1\n",
        "\n",
        "    if c == 1:\n",
        "        nomeBarato = nome\n",
        "        menorPreco = preco\n",
        "    elif preco < menorPreco:\n",
        "        nomeBarato = nome\n",
        "        menorPreco = preco\n",
        "\n",
        "    resp = ' '\n",
        "\n",
        "    while resp not in ('SN'):\n",
        "        resp = str(input('Quer continuar ?'\n",
        "                            '[S/N] ou [s/n] ')).strip().upper()\n",
        "        if resp not in 'SN':\n",
        "            print('Digito incorreto , tente novamente!')\n",
        "\n",
        "    if resp == 'N':\n",
        "        break\n",
        "\n",
        "    print('-=-' * 5)\n",
        "\n",
        "print('\\n{:-^60}\\n'.format(' Fim do Programa '))\n",
        "\n",
        "print(f'O total da compra foi R${somaTot:.2f} ')\n",
        "print(f'Temos {maiorM} produtos custando mais de R$1000.00 ')\n",
        "print(f'O produto mais barato '\n",
        "      f'foi {nomeBarato.capitalize()} que custa R${menorPreco:.2f}')\n"
      ],
      "execution_count": 0,
      "outputs": []
    },
    {
      "cell_type": "markdown",
      "metadata": {
        "colab_type": "text",
        "id": "wi2CxabVIJPo"
      },
      "source": [
        "# **EX071**"
      ]
    },
    {
      "cell_type": "code",
      "metadata": {
        "id": "8jC2bGKjlLxF",
        "colab_type": "code",
        "colab": {}
      },
      "source": [
        "print('\\n{:#^60}\\n'.format(' Simulador Caixa eletrônico  '))\n",
        "\n",
        "print('=' * 30)\n",
        "print('{:^30}'.format('Banco CEV'))\n",
        "print('=' * 30)\n",
        "\n",
        "saque = int(input('Que falor você quer sacar? R$'))\n",
        "qNotas = 0\n",
        "\n",
        "for nota in [50, 20, 10, 1]:\n",
        "    qNotas = saque // nota\n",
        "    saque = saque % nota\n",
        "    if qNotas > 0:\n",
        "        print(f'{qNotas} notas de R${nota}')\n",
        "\n",
        "\n",
        "print('=' * 30)\n",
        "print('Volte sempre ao Banco CEV! Tenha um bom dia!')"
      ],
      "execution_count": 0,
      "outputs": []
    }
  ]
}