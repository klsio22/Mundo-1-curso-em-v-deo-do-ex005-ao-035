{
  "nbformat": 4,
  "nbformat_minor": 0,
  "metadata": {
    "colab": {
      "name": "Mundo 1 curso em vídeo do ex005 ao 035.ipynb",
      "provenance": [],
      "collapsed_sections": [
        "Hn1vrGsVeSZR",
        "AZ_ORdlkeVpU",
        "EEJzsQKMeldc",
        "23q_9l5kem5U",
        "t9Mo4DWyeoT2",
        "6T5j1Jrteph-",
        "hHduD20he54N",
        "ykYv783Te2xJ",
        "Lngd-VGGjieG",
        "n2bgVq9ujmPR",
        "_MkRBcL8jsVb",
        "S_tZv0nljvux",
        "R_zZZgm6jxh2",
        "bm1Vxr_xj0mA",
        "RPlxsgt-j2Kg",
        "F_WoQqn2j4CK",
        "QSEFvZXOj5vT",
        "UdjTO03Vj7OD",
        "HpMhjhg8j8_H",
        "pXTwtrc4j-is",
        "6D9AAOTAj_5m",
        "thdSJMJEkCOr",
        "-5nlk3CUkDwm",
        "a_xPbt00kFxT",
        "1J43SZnUkHoT",
        "PVI-p4EokJS1",
        "psoVymGJkL78",
        "QkelpfOakNPU"
      ],
      "include_colab_link": true
    },
    "kernelspec": {
      "name": "python3",
      "display_name": "Python 3"
    }
  },
  "cells": [
    {
      "cell_type": "markdown",
      "metadata": {
        "id": "view-in-github",
        "colab_type": "text"
      },
      "source": [
        "<a href=\"https://colab.research.google.com/github/klsio22/Mundo-1-curso-em-v-deo-do-ex005-ao-035/blob/master/Mundo_1_curso_em_v%C3%ADdeo_do_ex005_ao_035.ipynb\" target=\"_parent\"><img src=\"https://colab.research.google.com/assets/colab-badge.svg\" alt=\"Open In Colab\"/></a>"
      ]
    },
    {
      "cell_type": "markdown",
      "metadata": {
        "id": "A71ek8BaeEju",
        "colab_type": "text"
      },
      "source": [
        "# **EX005**"
      ]
    },
    {
      "cell_type": "code",
      "metadata": {
        "id": "cRusARIPCD8_",
        "colab_type": "code",
        "colab": {}
      },
      "source": [
        "print('\\n' + '-=-' * 10 + ' Sucessor e antecessor' + '-=-' * 10 + '\\n')\n",
        "\n",
        "n1 = int(input('Digite um numero: '))\n",
        "print('\\nO sucessor de {} é {} e o antecessor é {}'.format(n1, (n1+1), (n1-1)))\n",
        "print('teste')"
      ],
      "execution_count": 0,
      "outputs": []
    },
    {
      "cell_type": "markdown",
      "metadata": {
        "id": "jVuGds79i_lZ",
        "colab_type": "text"
      },
      "source": [
        "# **EX006**"
      ]
    },
    {
      "cell_type": "code",
      "metadata": {
        "id": "IqVGQORljGA5",
        "colab_type": "code",
        "colab": {}
      },
      "source": [
        "print('\\n====== Digite um numero para saber o seu dobro o seu triplo e a sua raiz ======\\n')\n",
        "\n",
        "n1 = int(input('Digite um numero '))\n",
        "\n",
        "print('O dobro de {} é {} o triplo é {} e a raiz é {:.2f}'.format(n1, (n1*2), (n1*3), (pow(n1,(1/2)))))\n"
      ],
      "execution_count": 0,
      "outputs": []
    },
    {
      "cell_type": "code",
      "metadata": {
        "id": "NDIdrdTXjL2N",
        "colab_type": "code",
        "colab": {}
      },
      "source": [
        "print('\\n' + '-=-' * 10 + 'Dobro, triplo e Raiz ' + '-=-' * 10 + '\\n')\n",
        "\n",
        "frase = str('Digite um número para saber o seu dobro o seu triplo e a sua raiz')\n",
        "\n",
        "n1 = int(input('{} '.format(frase)))\n",
        "\n",
        "print('O dobro de {} é {} o triplo é {} e a raiz é {:.2f}'\n",
        "      .format(n1, (n1*2), (n1*3), (pow(n1,(1/2)))))\n"
      ],
      "execution_count": 0,
      "outputs": []
    },
    {
      "cell_type": "markdown",
      "metadata": {
        "id": "vgHDvsDVd4y3",
        "colab_type": "text"
      },
      "source": [
        "# **EX007**"
      ]
    },
    {
      "cell_type": "code",
      "metadata": {
        "id": "8_7Djo3rpVaB",
        "colab_type": "code",
        "colab": {}
      },
      "source": [
        "print('\\n============== Digite dois valores para saber a média entre eles ==============\\n')\n",
        "\n",
        "n1 = float(input('Digite a primeiro nota: '))\n",
        "n2 = float(input('Digite a segunda  nota: '))\n",
        "med = (n1 + n2) / 2\n",
        "\n",
        "print('A media entre {:.1f} e {:.1f} é {:.2f}'.format(n1, n2, med))"
      ],
      "execution_count": 0,
      "outputs": []
    },
    {
      "cell_type": "markdown",
      "metadata": {
        "id": "-I4WeoG0pL9v",
        "colab_type": "text"
      },
      "source": [
        "ex007 - melhorar code"
      ]
    },
    {
      "cell_type": "code",
      "metadata": {
        "id": "JHOXk5DTd3wq",
        "colab_type": "code",
        "colab": {}
      },
      "source": [
        "print('\\n' + '-=-' * 10 + ' Média de notas ' + '-=-' * 10 + '\\n')\n",
        "\n",
        "print('Digite duas notas para saber a média entre eles')\n",
        "print('Aviso:eles não podem ser menor que 0 e maior 10')\n",
        "\n",
        "list = []\n",
        "for n in range(1, 3):\n",
        "    nota = float(input('Digite a {}º nota: '.format(n)))\n",
        "    \n",
        "    while (nota < 0) or (nota > 10):\n",
        "        print('Valores não correspodente tente novamente')\n",
        "        nota = float(input('Digite a {}º nota: '.format(n)))\n",
        "    \n",
        "    list += [nota]   \n",
        "    soma = sum(list)\n",
        "    qnt_nota = len(list)\n",
        "\n",
        "med = soma / 2\n",
        "print('A media entre {:.1f} e {:.1f} é {:.2f}'.format(list[0], list[1], med))\n"
      ],
      "execution_count": 0,
      "outputs": []
    },
    {
      "cell_type": "markdown",
      "metadata": {
        "id": "Hn1vrGsVeSZR",
        "colab_type": "text"
      },
      "source": [
        "# **EX008**\n"
      ]
    },
    {
      "cell_type": "code",
      "metadata": {
        "id": "36ap8xV7fZCI",
        "colab_type": "code",
        "colab": {}
      },
      "source": [
        "\"\"\"''''''\n",
        "print('\\n===== Escreva um valor em metros para converte-lo para cm e mm =====\\n')\n",
        "\n",
        "m = float(input('Digite um valor em metro '))\n",
        "\n",
        "print('A medida em {}m corresponde a'.format(m))\n",
        "print('{}km'.format(m/1000))\n",
        "print('{}hm'.format(m/100))\n",
        "print('{}dam'.format(m/10))\n",
        "print('{}dm'.format(m*10))\n",
        "print('{}cm'.format(m*100))\n",
        "print('{}mm'.format(m*1000))\n",
        "''''''\"\"\"\n",
        "\n",
        "print('\\n' + '-#-' * 10 + ' CONVERSOR DE UNIDADES ' + '-#-' * 10 + '\\n')\n",
        "\n",
        "print('ATENÇÃO: Escreva um valor em metros para converte-lo para respectivas unidades:')\n",
        "print('cm,mm,dm,dam,hm,km\\n')\n",
        "\n",
        "m = float(input('Digite o valor em metros: '))\n",
        "\n",
        "print('--' * 23)\n",
        "print('Digite 1 para converter para km(kilometro)')\n",
        "print('--' * 23)\n",
        "print('Digite 2 para converter para hm(hectomentro)')\n",
        "print('--' * 23)\n",
        "print('Digite 3 para converter para dam(decametro)')\n",
        "print('--' * 23)\n",
        "print('Digite 4 para converter para dm(decimetro)')\n",
        "print('--' * 23)\n",
        "print('Digite 5 para converter para cm (centimetros)')\n",
        "print('--' * 23)\n",
        "print('Digite 6 para converter para mm (milimetros)')\n",
        "print('--' * 23)\n",
        "\n",
        "medida = float(input('\\nUnidade: '))\n",
        "print('\\n')\n",
        "if medida == 1:\n",
        "    print('A medida em {}m corresponde a'.format(m))\n",
        "    print('{}km\\n'.format(m / 1000))\n",
        "elif medida == 2:\n",
        "    print('A medida em {}m corresponde a'.format(m))\n",
        "    print('{}hm\\n'.format(m / 100))\n",
        "elif medida == 3:\n",
        "    print('A medida em {}m corresponde a'.format(m))\n",
        "    print('{}dam\\n'.format(m / 10))\n",
        "elif medida == 4:\n",
        "    print('A medida em {}m corresponde a'.format(m))\n",
        "    print('{}dm\\n'.format(m * 10))\n",
        "elif medida == 5:\n",
        "    print('A medida em {}m corresponde a'.format(m))\n",
        "    print('{}cm\\n'.format(m * 100))\n",
        "elif medida == 6:\n",
        "    print('A medida em {}m corresponde a'.format(m))\n",
        "    print('{}mm\\n'.format(m * 1000))\n",
        "else:\n",
        "    print('Tecla invalida\\n')\n",
        "\n"
      ],
      "execution_count": 0,
      "outputs": []
    },
    {
      "cell_type": "markdown",
      "metadata": {
        "id": "AZ_ORdlkeVpU",
        "colab_type": "text"
      },
      "source": [
        "# **EX009**"
      ]
    },
    {
      "cell_type": "code",
      "metadata": {
        "id": "ZkqqkfvoiOc6",
        "colab_type": "code",
        "colab": {}
      },
      "source": [
        "print('\\n====== Digite um valor para gerar a sua tabuada =======\\n')\n",
        "\n",
        "n = float(input('Digite o numero: '))\n",
        "print('\\n====== TABUADA de {} =====\\n'.format(n))\n",
        "print('{} X {:2} = {:.2f}'.format(n, 1, n * 1))\n",
        "print('{} X {:2} = {:.2f}'.format(n, 2, n * 2))\n",
        "print('{} X {:2} = {:.2f}'.format(n, 3, n * 3))\n",
        "print('{} X {:2} = {:.2f}'.format(n, 4, n * 4))\n",
        "print('{} X {:2} = {:.2f}'.format(n, 5, n * 5))\n",
        "print('{} X {:2} = {:.2f}'.format(n, 6, n * 6))\n",
        "print('{} X {:2} = {:.2f}'.format(n, 7, n * 7))\n",
        "print('{} X {:2} = {:.2f}'.format(n, 8, n * 8))\n",
        "print('{} X {:2} = {:.2f}'.format(n, 9, n * 9))\n",
        "print('{} X {:2} = {:.2f}'.format(n, 10, n * 10))\n",
        "print('=' * 12)\n"
      ],
      "execution_count": 0,
      "outputs": []
    },
    {
      "cell_type": "markdown",
      "metadata": {
        "id": "EEJzsQKMeldc",
        "colab_type": "text"
      },
      "source": [
        "# **EX010**\n"
      ]
    },
    {
      "cell_type": "code",
      "metadata": {
        "id": "fy1SwOLTit6d",
        "colab_type": "code",
        "colab": {}
      },
      "source": [
        "print('\\n===== Conversor de R$ para US$ , EUR , CAD =====\\n')\n",
        "\n",
        "real = float(input('Digite o valor que será convertido R$: '))\n",
        "print('Moeda Real: R${} '.format(real))\n",
        "\n",
        "print('\\n===== Valores Convertidos =====')\n",
        "\n",
        "print('\\nMoeda Dólar US : US${:.5f} '.format(real/3.94477))\n",
        "print('Moeda Euro : €{:.5f} '.format(real/4.39691))\n",
        "print('Moeda Dólar Canadense: C${:.5f} \\n'.format(real/2.92853))\n",
        "\n",
        "print('='*40)"
      ],
      "execution_count": 0,
      "outputs": []
    },
    {
      "cell_type": "markdown",
      "metadata": {
        "id": "23q_9l5kem5U",
        "colab_type": "text"
      },
      "source": [
        "# **EX011**"
      ]
    },
    {
      "cell_type": "code",
      "metadata": {
        "id": "3BjFjc0FiywO",
        "colab_type": "code",
        "colab": {}
      },
      "source": [
        "print('\\n======= Pintando a parede ======\\n')\n",
        "\n",
        "a = float(input('Digite Altura da parede '))\n",
        "l = float(input('Digite a largura da parede '))\n",
        "\n",
        "are = a * l\n",
        "lit = are / 2.0\n",
        "\n",
        "print('Uma parede de {}m de altura e {}m de largura'.format(a, l) , end= '')\n",
        "print(' pinta uma area de {:.3f}m² com {:.3f}l de tinta.'.format(are, lit))\n"
      ],
      "execution_count": 0,
      "outputs": []
    },
    {
      "cell_type": "markdown",
      "metadata": {
        "id": "t9Mo4DWyeoT2",
        "colab_type": "text"
      },
      "source": [
        "# **EX012**"
      ]
    },
    {
      "cell_type": "code",
      "metadata": {
        "id": "fgLRmKnFi1bH",
        "colab_type": "code",
        "colab": {}
      },
      "source": [
        "print('\\n============== Preço do produto e o desconto de 5% ==============\\n')\n",
        "\n",
        "price = float(input('Qual o preço do produto? R$'))\n",
        "\n",
        "dis = price - (price * 0.05)\n",
        "\n",
        "print('Produto sem o desconto {:.2f}'.format(price))\n",
        "print('Produto com o desconto {:.2f}'.format(dis))\n"
      ],
      "execution_count": 0,
      "outputs": []
    },
    {
      "cell_type": "markdown",
      "metadata": {
        "id": "6T5j1Jrteph-",
        "colab_type": "text"
      },
      "source": [
        "# **EX013**"
      ]
    },
    {
      "cell_type": "code",
      "metadata": {
        "id": "7fvGvxuXi3q-",
        "colab_type": "code",
        "colab": {}
      },
      "source": [
        "print('\\n======== Aumento de Salario em 15% ========\\n')\n",
        "\n",
        "sal = float(input('Salario atual R$'))\n",
        "\n",
        "aum = sal + (sal * 0.15)\n",
        "\n",
        "print('Antigo salario {:.2f}' .format(sal))\n",
        "print('Salario após o aumento {:.2f}'.format(aum))\n"
      ],
      "execution_count": 0,
      "outputs": []
    },
    {
      "cell_type": "markdown",
      "metadata": {
        "colab_type": "text",
        "id": "hHduD20he54N"
      },
      "source": [
        "# **EX014**"
      ]
    },
    {
      "cell_type": "code",
      "metadata": {
        "id": "VLzln5rjeRzY",
        "colab_type": "code",
        "colab": {}
      },
      "source": [
        "print('\\n======= Conversor de temperaturas ========\\n')\n",
        "\n",
        "c = float(input('Digite a temperatura em Celsius: '))\n",
        "f = float(input('Digite a temperatura em Fahrenheit: '))\n",
        "k = float(input('Digite a temperatura em Kelvin: '))\n",
        "\n",
        "print('\\n' + '=' * 30 + '\\n')\n",
        "\n",
        "print('Celsius >> Fahrenheit = {}°F'.format(32 + (c * 1.8)))\n",
        "print('Celsius >> Kelvin = {}K'.format(c + 273.15))\n",
        "\n",
        "print('\\n' + '=' * 30 + '\\n')\n",
        "\n",
        "print('Fahrenheit >> Celsius = {:.3f}°C'.format(((f - 32) * (5 / 9))))\n",
        "print('Fahrenheit >> Kelvin = {:.3f}K'.format((f - 32) * (5 / 9) + 273.15))\n",
        "\n",
        "print('\\n' + '=' * 30 + '\\n')\n",
        "\n",
        "print('Kelvin >> Celsius = {:.3f}°C'.format(k - 273.15))\n",
        "print('Kelvin >> Fahrenheit = {:.3f}°F'.format((k - 273.15) * 1.8 + 32))\n",
        "\n",
        "print('\\n' + '=' * 30)\n"
      ],
      "execution_count": 0,
      "outputs": []
    },
    {
      "cell_type": "markdown",
      "metadata": {
        "colab_type": "text",
        "id": "ykYv783Te2xJ"
      },
      "source": [
        "# **EX015**"
      ]
    },
    {
      "cell_type": "code",
      "metadata": {
        "id": "w63SJ6HWjXtb",
        "colab_type": "code",
        "colab": {}
      },
      "source": [
        "print('\\n' + '=' * 30 + ' Alugel do Carro ' + '=' * 30 + '\\n')\n",
        "\n",
        "km = float(input('Digite a quantidade km percorridos '))\n",
        "day = float(input('Digite a quantidade de dias alugados '))\n",
        "\n",
        "print('\\ntotal a pagar R${:.2f}'.format((day*60) + (0.15 * km)))\n"
      ],
      "execution_count": 0,
      "outputs": []
    },
    {
      "cell_type": "markdown",
      "metadata": {
        "id": "Lngd-VGGjieG",
        "colab_type": "text"
      },
      "source": [
        "# **EX016**"
      ]
    },
    {
      "cell_type": "code",
      "metadata": {
        "id": "UieM9nLVkXgA",
        "colab_type": "code",
        "colab": {}
      },
      "source": [
        "import math\n",
        "\n",
        "print('\\n'+'=' * 20+' Aredondamento de valores ' + '='*20 + '\\n')\n",
        "\n",
        "n = float(input('Digite um numero: '))\n",
        "\n",
        "print('Numero aredondado :', math.floor(n))\n"
      ],
      "execution_count": 0,
      "outputs": []
    },
    {
      "cell_type": "markdown",
      "metadata": {
        "colab_type": "text",
        "id": "n2bgVq9ujmPR"
      },
      "source": [
        "# **EX017**"
      ]
    },
    {
      "cell_type": "code",
      "metadata": {
        "id": "CzvnL8FpkaAp",
        "colab_type": "code",
        "colab": {}
      },
      "source": [
        "from math import hypot\n",
        "\n",
        "print('\\n'+'=' * 20 +' Calcule a Hipotenusa ' + '='*20 + '\\n')\n",
        "\n",
        "co = float(input('Digite o valor do catedo oposto: '))\n",
        "ca = float(input('Digite o valor do catedo adjacente: '))\n",
        "\n",
        "print('\\nValor da hipotenusa é = ', hypot(co, ca))\n"
      ],
      "execution_count": 0,
      "outputs": []
    },
    {
      "cell_type": "markdown",
      "metadata": {
        "colab_type": "text",
        "id": "_MkRBcL8jsVb"
      },
      "source": [
        "# **EX018**"
      ]
    },
    {
      "cell_type": "code",
      "metadata": {
        "id": "KDEtQHJSkc9_",
        "colab_type": "code",
        "colab": {}
      },
      "source": [
        "from math import radians, cos, sin, tan\n",
        "\n",
        "print('\\n'+'=' * 20 +' Calcule a Hipotenusa ' + '='*20 + '\\n')\n",
        "\n",
        "arc = float(input('Digite o valor do ângulo: '))\n",
        "\n",
        "print('\\n'+'='*20+'\\n')\n",
        "\n",
        "print('O ângulo do seno = {:.2f}'.format(sin(radians(arc))))\n",
        "print('O ângulo do coseno = {:.2f}'.format(cos(radians(arc))))\n",
        "print('O ângulo do tangente = {:.2f}'.format(tan(radians(arc))))\n"
      ],
      "execution_count": 0,
      "outputs": []
    },
    {
      "cell_type": "markdown",
      "metadata": {
        "id": "S_tZv0nljvux",
        "colab_type": "text"
      },
      "source": [
        "# **EX019**"
      ]
    },
    {
      "cell_type": "code",
      "metadata": {
        "id": "_9lEMMqQkfyz",
        "colab_type": "code",
        "colab": {}
      },
      "source": [
        "from random import choice\n",
        "\n",
        "print('\\n' + '=' * 20 + ' Sorteio do um aluno ' + '=' * 20 + '\\n')\n",
        "\n",
        "a1 = str(input('Digite o nome do Primeiro aluno: '))\n",
        "a2 = str(input('Digite o nome do Segundo aluno: '))\n",
        "a3 = str(input('Digite o nome do Terceiro aluno: '))\n",
        "a4 = str(input('Digite o nome do Quarto aluno: '))\n",
        "\n",
        "print('\\n'+'='*20+'\\n')\n",
        "\n",
        "lista = [a1, a2, a3, a4]\n",
        "\n",
        "print('Nome Soteado pelo professor: {}'.format(choice(lista)))\n"
      ],
      "execution_count": 0,
      "outputs": []
    },
    {
      "cell_type": "markdown",
      "metadata": {
        "id": "R_zZZgm6jxh2",
        "colab_type": "text"
      },
      "source": [
        "# **EX020**"
      ]
    },
    {
      "cell_type": "code",
      "metadata": {
        "id": "FvBHSIfFlKMk",
        "colab_type": "code",
        "colab": {}
      },
      "source": [
        "from random import shuffle\n",
        "\n",
        "print('\\n' + '=' * 20 + ' Sorteio de ordem de apresentação dos alunos ' + '=' * 20 + '\\n')\n",
        "\n",
        "a1 = str(input('Digite o nome do 1º aluno: '))\n",
        "a2 = str(input('Digite o nome do 2º aluno: '))\n",
        "a3 = str(input('Digite o nome do 3º aluno: '))\n",
        "a4 = str(input('Digite o nome do 4º aluno: '))\n",
        "\n",
        "lista = [a1, a2, a3, a4]\n",
        "shuffle(lista)\n",
        "\n",
        "print('\\n' + '=' * 50 + '\\n')\n",
        "\n",
        "print('A ordem de apresentação será: {}'.format(lista))\n",
        "\n",
        "print('\\n' + '=' * 50 + '\\n')\n"
      ],
      "execution_count": 0,
      "outputs": []
    },
    {
      "cell_type": "markdown",
      "metadata": {
        "id": "bm1Vxr_xj0mA",
        "colab_type": "text"
      },
      "source": [
        "# **EX021**"
      ]
    },
    {
      "cell_type": "code",
      "metadata": {
        "id": "UQLzHco2lMkT",
        "colab_type": "code",
        "colab": {}
      },
      "source": [
        "import pygame\n",
        "pygame.init()\n",
        "pygame.mixer.music.load('ex021.mp3')\n",
        "pygame.mixer.music.play()\n",
        "pygame.event.wait()"
      ],
      "execution_count": 0,
      "outputs": []
    },
    {
      "cell_type": "markdown",
      "metadata": {
        "id": "RPlxsgt-j2Kg",
        "colab_type": "text"
      },
      "source": [
        "# **EX022**"
      ]
    },
    {
      "cell_type": "code",
      "metadata": {
        "id": "eV1qBMt3lP24",
        "colab_type": "code",
        "colab": {}
      },
      "source": [
        "print('\\n' + '=' * 40 + ' Nome de Pessoas ' + '=' * 40 + '\\n')\n",
        "\n",
        "nome = str(input('Digite o seu nome: ')).strip()\n",
        "listnome = nome.split()\n",
        "\n",
        "print('='*50)\n",
        "\n",
        "print('Seu nome com letras maiúsculas : {}'.format(nome.upper()))\n",
        "\n",
        "print('='*50)\n",
        "\n",
        "print('Seu nome com letras menusculas : {}'.format(nome.lower()))\n",
        "\n",
        "print('='*50)\n",
        "\n",
        "print('Número de Caracteres do seu nome: {}'.format(len(nome) - nome.count(' ')))\n",
        "\n",
        "#print('Número de Caracteres do seu nome: {}'.format(len(''.join(listnome))))\n",
        "\n",
        "print('='*50)\n",
        "\n",
        "#print('O Seu primeiro tem {} letras'.format(nome.find(' ')))\n",
        "\n",
        "print('O Seu primeiro é {} e tem {} letras'.format(listnome[0], len(listnome[0])))\n"
      ],
      "execution_count": 0,
      "outputs": []
    },
    {
      "cell_type": "markdown",
      "metadata": {
        "id": "F_WoQqn2j4CK",
        "colab_type": "text"
      },
      "source": [
        "# **EX023**"
      ]
    },
    {
      "cell_type": "code",
      "metadata": {
        "id": "aC3TdU3KlVcz",
        "colab_type": "code",
        "colab": {}
      },
      "source": [
        "print('\\n' + '=' * 40 + ' NUMERAÇÃO DECIMAL ' + '=' * 40 + '\\n')\n",
        "'''''''''\n",
        "num = int(input('Digite o numero : '))\n",
        "u = num // 1 % 10\n",
        "d = num // 10 % 10\n",
        "c = num // 100 % 10\n",
        "m = num // 1000 % 10\n",
        "\n",
        "print('Analizando o número: {}'.format(num))\n",
        "print('Unidade: {}'.format(u))\n",
        "print('Dezena: {}'.format(d))\n",
        "print('Centena: {}'.format(c))\n",
        "print('Milhar: {}'.format(m))\n",
        "'''''''''\n",
        "\n",
        "n = int(input('Digite um número entre 0 e 9999: '))\n",
        "n2 = str(int(10000 + n))\n",
        "print('{} milhares.'.format(n2[1]))\n",
        "print('{} centenas. '.format(n2[2]))\n",
        "print('{} dezenas. '.format(n2[3]))\n",
        "print('{} unidades.'.format(n2[4]))\n"
      ],
      "execution_count": 0,
      "outputs": []
    },
    {
      "cell_type": "markdown",
      "metadata": {
        "id": "QSEFvZXOj5vT",
        "colab_type": "text"
      },
      "source": [
        "# **EX024**"
      ]
    },
    {
      "cell_type": "code",
      "metadata": {
        "id": "VjDFnxMXlYDU",
        "colab_type": "code",
        "colab": {}
      },
      "source": [
        "print('\\n' + '=' * 40 + ' Nome da Cidade ' + '=' * 40 + '\\n')\n",
        "'''''''''\n",
        "cidade = str(input('Digite o nome de sua cidade: ')).strip().split()\n",
        "\n",
        "cidade02 = cidade[0].title().capitalize()\n",
        "\n",
        "if (cidade02 == str('Santo')):\n",
        "    print('VERDADEIRO')\n",
        "\n",
        "else:\n",
        "    print('FALSO')\n",
        "'''''''''\n",
        "\n",
        "\n",
        "\n",
        "city = str(input('Em qual cidade você nasceu: ')).strip().split()\n",
        "cit = city[0].title().capitalize()\n",
        "\n",
        "if cit == str('Santos'):\n",
        "    print('True')\n",
        "else:\n",
        "    print('Falso')\n",
        "\n",
        "'''''''''\n",
        "cid = str(input('Em que cidade você nasceu? ')).strip().split()\n",
        "print(cid[0].lower() == 'santo')\n",
        "'''''''''"
      ],
      "execution_count": 0,
      "outputs": []
    },
    {
      "cell_type": "markdown",
      "metadata": {
        "id": "UdjTO03Vj7OD",
        "colab_type": "text"
      },
      "source": [
        "# **EX025**"
      ]
    },
    {
      "cell_type": "code",
      "metadata": {
        "id": "vC6BW-TzlbCD",
        "colab_type": "code",
        "colab": {}
      },
      "source": [
        "print('\\n' + '=' * 40 + ' Nome da Pessoa tem Silva ?' + '=' * 40 + '\\n')\n",
        "\n",
        "nome_pessoa = str(input('Digite o seu nome completo: ')).lower().strip()\n",
        "print('Seu nome tem Silva ? {}'.format('silva' in nome_pessoa))\n"
      ],
      "execution_count": 0,
      "outputs": []
    },
    {
      "cell_type": "markdown",
      "metadata": {
        "id": "HpMhjhg8j8_H",
        "colab_type": "text"
      },
      "source": [
        "# **EX026**"
      ]
    },
    {
      "cell_type": "code",
      "metadata": {
        "id": "ao6rnqFRllIp",
        "colab_type": "code",
        "colab": {}
      },
      "source": [
        "print('\\n' + '=' * 40 + ' Ocorrência da Letra \"A\" ' + '=' * 40 + '\\n')\n",
        "\n",
        "word = str(input('Digite uma frase : ')\n",
        "           ).strip().lower().replace('â', 'a')\\\n",
        "    .replace('ã', 'a').replace('à', 'a').replace('á', 'a')\n",
        "\n",
        "print('A letra \"A\" aparece {} vezes na frase.'.format(word.count('a')))\n",
        "print('A primeira letra \"A\" apareceu na posição {} '.format(word.find('a') + 1))\n",
        "print('A última letra \"A\" apareceu na posição {}'.format(word.rfind('a') + 1))\n"
      ],
      "execution_count": 0,
      "outputs": []
    },
    {
      "cell_type": "markdown",
      "metadata": {
        "id": "pXTwtrc4j-is",
        "colab_type": "text"
      },
      "source": [
        "# **EX027**"
      ]
    },
    {
      "cell_type": "code",
      "metadata": {
        "id": "drNVePEmmFMS",
        "colab_type": "code",
        "colab": {}
      },
      "source": [
        "print('\\n' + '=' * 40 + ' Primeiro e Ultimo Nome da Pessoa ' + '=' * 40 + '\\n')\n",
        "\n",
        "\n",
        "n = str(input('Digite o nome completo : ')).strip().title()\n",
        "\n",
        "nome = n.split()\n",
        "\n",
        "print('\\n' + '=' * 40 + '\\n')\n",
        "\n",
        "print('Pazer em te conhecer {}' .format(n))\n",
        "\n",
        "print('\\n' + '=' * 40 + '\\n')\n",
        "\n",
        "print('O seu primeiro nome é {}'.format(nome[0]))\n",
        "\n",
        "print('\\n' + '=' * 40+'\\n')\n",
        "\n",
        "print('O seu último nome é {}'.format(nome[-1]))\n",
        "#print('O seu último nome é {}'.format(nome[len(nome)-1]))\n",
        "\n",
        "print('\\n' + '=' * 40)\n"
      ],
      "execution_count": 0,
      "outputs": []
    },
    {
      "cell_type": "markdown",
      "metadata": {
        "id": "6D9AAOTAj_5m",
        "colab_type": "text"
      },
      "source": [
        "# **EX028**"
      ]
    },
    {
      "cell_type": "code",
      "metadata": {
        "id": "SmpIJ-b-mHrU",
        "colab_type": "code",
        "colab": {}
      },
      "source": [
        "from random import randint\n",
        "from time import sleep\n",
        "from termcolor import colored\n",
        "\n",
        "print(colored('-=-', 'yellow') * 20)\n",
        "print(' Os números são gerados aleatóriamente entre 0 e 5 ', 'blue')\n",
        "print(colored('-=-', 'yellow') * 20)\n",
        "\n",
        "player = int(input('\\nEscolha um número entre 0 e 5 : '))\n",
        "\n",
        "computer = randint(0, 5)\n",
        "\n",
        "print(colored('Preocessando ...', 'magenta'))\n",
        "sleep(3)\n",
        "\n",
        "if computer == player:\n",
        "    print('\\nParabéns, você acertou, eu escolhi o número {}'.format(computer))\n",
        "else:\n",
        "    print('\\nNão foi dessa vez você errou não é {}, o correto era {}'.format(player, computer))\n"
      ],
      "execution_count": 0,
      "outputs": []
    },
    {
      "cell_type": "markdown",
      "metadata": {
        "id": "thdSJMJEkCOr",
        "colab_type": "text"
      },
      "source": [
        "# **EX029**"
      ]
    },
    {
      "cell_type": "code",
      "metadata": {
        "id": "NkNij4wXmO8K",
        "colab_type": "code",
        "colab": {}
      },
      "source": [
        "print('\\n' + '=' * 30 + ' Velocidade do carro  ' + '=' * 30 + '\\n')\n",
        "\n",
        "print('Velocidade maxíma nessa extrada é 80km/h')\n",
        "print('A Multa será de R$ 7 por km/h acima da velocidade Maxíma\\n')\n",
        "\n",
        "print('=' * 40)\n",
        "km = float(input('Digite a velocidade do carro : '))\n",
        "\n",
        "cores = {\n",
        "    'limpa': '\\033[m',\n",
        "    'branco': '\\033[30m',\n",
        "    'vermelho': '\\033[31m',\n",
        "    'verde': '\\033[32m',\n",
        "    'amarelo': '\\033[33m',\n",
        "    'azul': '\\033[34m',\n",
        "    'roxo': '\\33[35m',\n",
        "    'verdeAgua': '\\033[36m',\n",
        "    'cinza': '\\033[37m',\n",
        "}\n",
        "\n",
        "if km > 80:\n",
        "    mul = 7 * (km - 80)\n",
        "    print('{}MULTADO! você execedeu o limite permitido que é de 80km/h'.format(cores['vermelho']))\n",
        "    print('Você irá pagar um multa de {}R$ {:.2f}'.format(cores['amarelo'], mul))\n",
        "else:\n",
        "    print('{}Sua velocidade está no limite estabelecido.'.format(cores['verde']))\n"
      ],
      "execution_count": 0,
      "outputs": []
    },
    {
      "cell_type": "markdown",
      "metadata": {
        "id": "-5nlk3CUkDwm",
        "colab_type": "text"
      },
      "source": [
        "# **EX030**"
      ]
    },
    {
      "cell_type": "code",
      "metadata": {
        "id": "WEcZov-dmXRE",
        "colab_type": "code",
        "colab": {}
      },
      "source": [
        "print('\\n' + '=' * 30 + ' Números Par e Ímpar ' + '=' * 30 + '\\n')\n",
        "\n",
        "cores = {\n",
        "    'limpa': '\\033[m',\n",
        "    'branco': '\\033[30m',\n",
        "    'vermelho': '\\033[31m',\n",
        "    'verde': '\\033[32m',\n",
        "    'amarelo': '\\033[33m',\n",
        "    'azul': '\\033[34m',\n",
        "    'roxo': '\\33[35m',\n",
        "    'verdeAgua': '\\033[36m',\n",
        "    'cinza': '\\033[37m',\n",
        "}\n",
        "\n",
        "n = int(input('{}Digite um numero para saber se é PAR ou ÍMPAR{} : '.format(cores['roxo'], cores['limpa'])))\n",
        "\n",
        "par = n % 2\n",
        "\n",
        "if par == 0:\n",
        "    print('\\nO número {} é {}divisível por 2'.format(n, cores['azul']))\n",
        "else:\n",
        "    print('\\nO número {} não é {}divisível por 2 '.format(n, cores['azul']))\n"
      ],
      "execution_count": 0,
      "outputs": []
    },
    {
      "cell_type": "markdown",
      "metadata": {
        "id": "a_xPbt00kFxT",
        "colab_type": "text"
      },
      "source": [
        "# **EX031**"
      ]
    },
    {
      "cell_type": "code",
      "metadata": {
        "id": "2slgzEuAmpga",
        "colab_type": "code",
        "colab": {}
      },
      "source": [
        "cores = {\n",
        "    'limpa': '\\033[m',\n",
        "    'branco': '\\033[30m',\n",
        "    'vermelho': '\\033[31m',\n",
        "    'verde': '\\033[32m',\n",
        "    'amarelo': '\\033[33m',\n",
        "    'azul': '\\033[34m',\n",
        "    'roxo': '\\33[35m',\n",
        "    'verdeAgua': '\\033[36m',\n",
        "    'cinza': '\\033[37m',\n",
        "}\n",
        "print('\\n' + '=' * 30 + ' Distância de uma viagem ' + '=' * 30 + '\\n')\n",
        "\n",
        "print('Viagens até 200km pagará R$0.50 por km e R$0.45 para maiores de 200km ')\n",
        "print('=' * 70)\n",
        "distancia = float(input('\\nDigite a distância da viagem: '))\n",
        "\n",
        "if distancia <= 200:\n",
        "    preco = distancia * 0.50\n",
        "else:\n",
        "    preco = distancia * 0.45\n",
        "print('O valor a pagar pela passagem será de {}R$ {:.2f}'.format(cores['amarelo'], preco))\n",
        "\n",
        "''''''''''\n",
        "preco = distancia * 0.50 if distancia <= 200 else distancia * 0.45\n",
        "print('O valor pago pela passagem será de {}R$ {:.2f}'.format(cores['amarelo'], preco))\n",
        "'''''''''\n"
      ],
      "execution_count": 0,
      "outputs": []
    },
    {
      "cell_type": "markdown",
      "metadata": {
        "id": "1J43SZnUkHoT",
        "colab_type": "text"
      },
      "source": [
        "# **EX032**"
      ]
    },
    {
      "cell_type": "code",
      "metadata": {
        "id": "sFWKLUmQm73M",
        "colab_type": "code",
        "colab": {}
      },
      "source": [
        "from datetime import date\n",
        "\n",
        "cores = {\n",
        "    'limpa': '\\033[m',\n",
        "    'branco': '\\033[30m',\n",
        "    'vermelho': '\\033[31m',\n",
        "    'verde': '\\033[32m',\n",
        "    'amarelo': '\\033[33m',\n",
        "    'azul': '\\033[34m',\n",
        "    'roxo': '\\33[35m',\n",
        "    'verdeAgua': '\\033[36m',\n",
        "    'cinza': '\\033[37m',\n",
        "}\n",
        "\n",
        "print('\\n' + '=' * 30 + ' Ano Bissexto' + '=' * 30 + '\\n')\n",
        "\n",
        "ano = int(input('Qual ano deseja saber se é bissexto : '))\n",
        "\n",
        "if ano == 0:\n",
        "    ano = date.today().year\n",
        "if ano % 4 == 0 and ano % 100 != 0 or ano % 400 == 0:\n",
        "    print('O ano {} é Bissexto'.format(ano))\n",
        "else:\n",
        "    print('O ano {} não é bissexto'.format(ano))\n"
      ],
      "execution_count": 0,
      "outputs": []
    },
    {
      "cell_type": "markdown",
      "metadata": {
        "id": "PVI-p4EokJS1",
        "colab_type": "text"
      },
      "source": [
        "# **EX033**"
      ]
    },
    {
      "cell_type": "code",
      "metadata": {
        "id": "-dNLObZ4m-zU",
        "colab_type": "code",
        "colab": {}
      },
      "source": [
        "from termcolor import colored\n",
        "cores = {\n",
        "    'limpa': '\\033[m',\n",
        "    'branco': '\\033[30m',\n",
        "    'vermelho': '\\033[31m',\n",
        "    'verde': '\\033[32m',\n",
        "    'amarelo': '\\033[33m',\n",
        "    'azul': '\\033[34m',\n",
        "    'roxo': '\\33[35m',\n",
        "    'verdeAgua': '\\033[36m',\n",
        "    'cinza': '\\033[37m',\n",
        "}\n",
        "\n",
        "print('\\n' + '=' * 30 + ' Número Maior e Menor ' + '=' * 30 + '\\n')\n",
        "\n",
        "print('{}Digite três números para defini-los qual é o maior e menor entre eles\\n'.format(cores['roxo']))\n",
        "\n",
        "\n",
        "n1 = float(input(colored('Digite o primeiro número : ', 'red')))\n",
        "n2 = float(input(colored('Digite o segundo número : ', 'red')))\n",
        "n3 = float(input(colored('Digite o terceiro númer: ', 'red')))\n",
        "'''''''''\n",
        "if n1 > n2 and n1 > n3:\n",
        "    print('{} é o maior número'.format(n1))\n",
        "if n2 > n1 and n2 > n3:\n",
        "    print('{} é o maior número'.format(n2))\n",
        "if n3 > n1 and n3 > n2:\n",
        "    print('{} é o maior número'.format(n3))\n",
        "if n1 < n2 and n1 < n3:\n",
        "    print('{} é o menor número'.format(n1))\n",
        "if n2 < n1 and n2 < n3:\n",
        "    print('{} é o menor número'.format(n2))\n",
        "if n3 < n1 and n3 < n2:\n",
        "    print('{} é o menor número'.format(n3))\n",
        "'''''''''\n",
        "maior = n1\n",
        "\n",
        "if n2 > n1 and n2 > n3:\n",
        "    maior = n2\n",
        "if n3 > n1 and n3 > n2:\n",
        "    maior = n3\n",
        "\n",
        "menor = n1\n",
        "if n2 < n1 and n2 <n3:\n",
        "    menor = n2\n",
        "if n3 < n1 and n3 < n2:\n",
        "    menor = n3\n",
        "\n",
        "print('\\n{}{} é o maior número'.format(cores['azul'],maior))\n",
        "print('{}{} é o menor número'.format(cores['verdeAgua'],menor))\n"
      ],
      "execution_count": 0,
      "outputs": []
    },
    {
      "cell_type": "markdown",
      "metadata": {
        "id": "psoVymGJkL78",
        "colab_type": "text"
      },
      "source": [
        "# **EX034**"
      ]
    },
    {
      "cell_type": "code",
      "metadata": {
        "id": "FQoW-VPGnBp5",
        "colab_type": "code",
        "colab": {}
      },
      "source": [
        "from termcolor import colored\n",
        "cores = {\n",
        "    'limpa': '\\033[m',\n",
        "    'branco': '\\033[30m',\n",
        "    'vermelho': '\\033[31m',\n",
        "    'verde': '\\033[32m',\n",
        "    'amarelo': '\\033[33m',\n",
        "    'azul': '\\033[34m',\n",
        "    'roxo': '\\33[35m',\n",
        "    'verdeAgua': '\\033[36m',\n",
        "    'cinza': '\\033[37m',\n",
        "}\n",
        "\n",
        "print('\\n' + '=' * 30 + ' Aumentos múltiplos ' + '=' * 30 + '\\n')\n",
        "\n",
        "sal = float(input(colored('Qual o seu salário ? ', 'red')))\n",
        "\n",
        "\n",
        "if sal > 1250:\n",
        "    aumento = (sal * 0.10) + sal\n",
        "    print(\"{}Esse funcionario que ganhava {} teve um aumento de R${:.2f}\".format(cores['verdeAgua'], sal, aumento))\n",
        "if sal <= 1250 and sal >= 300:\n",
        "    aumento = (sal*0.15) + sal\n",
        "    print(\"{}Esse funcionario que ganhava {} teve um aumento de R${:.2f}\".format(cores['verdeAgua'], sal, aumento))\n",
        "if sal < 300:\n",
        "    print('{}Não tem nenhum funcinário dessa empresa que ganha menos de R$300'.format(cores['verdeAgua']))\n",
        "\n",
        "\n",
        "'''''''''\n",
        "if sal > 1250:\n",
        "    aumento = (sal * 0.10) + sal\n",
        "    print(\"Esse funcionario que ganhava {} teve um aumento de {:.2f}\".format(sal, aumento))\n",
        "else:\n",
        "    aumento = (sal*0.15) + sal\n",
        "    print(\"Esse funcionario que ganhava {} teve um aumento de {:.2f}\".format(sal, aumento))\n",
        "'''''''''\n",
        "\n",
        "'''''''''\n",
        "if sal > 1250:\n",
        "    aumento = (sal * 0.10) + sal\n",
        "    print(\"{}Esse funcionario que ganhava {} teve um aumento de R${:.2f}\".format(cores['verdeAgua'], sal, aumento))\n",
        "if sal <= 1250 and sal >= 300:\n",
        "    aumento = (sal*0.15) + sal\n",
        "    print(\"{}Esse funcionario que ganhava {} teve um aumento de R${:.2f}\".format(cores['verdeAgua'], sal, aumento))\n",
        "if sal < 300:\n",
        "    print('{}Não tem nenhum funcinário dessa empresa que ganha menos de R$300'.format(cores['verdeAgua']))\n",
        "'''''''''\n"
      ],
      "execution_count": 0,
      "outputs": []
    },
    {
      "cell_type": "markdown",
      "metadata": {
        "id": "QkelpfOakNPU",
        "colab_type": "text"
      },
      "source": [
        "# **EX035**"
      ]
    },
    {
      "cell_type": "code",
      "metadata": {
        "id": "ZrTmNXdPnEKg",
        "colab_type": "code",
        "colab": {}
      },
      "source": [
        "print('\\n' + '-=-' * 15 + ' Retas que Formam um Triângulo ' + '-=-' * 15 + '\\n')\n",
        "\n",
        "a = float(input('Digite o valor da primeira reta: '))\n",
        "b = float(input('Digite o valor da segunda reta: '))\n",
        "c = float(input('Digite o valor da terceira reta: '))\n",
        "\n",
        "if a + b > c and b + c > a and c + a > b:\n",
        "    print('\\nEssas retas formam um Triângulo')\n",
        "else:\n",
        "    print('\\nEssas retas não forma Triangulo')\n"
      ],
      "execution_count": 0,
      "outputs": []
    }
  ]
}